{
  "nbformat": 4,
  "nbformat_minor": 0,
  "metadata": {
    "colab": {
      "name": "any_and_multiprosess.ipynb",
      "provenance": [],
      "collapsed_sections": [],
      "machine_shape": "hm",
      "authorship_tag": "ABX9TyPsWOtquCNXUqFDcGvHuDK7",
      "include_colab_link": true
    },
    "kernelspec": {
      "name": "python3",
      "display_name": "Python 3"
    },
    "language_info": {
      "name": "python"
    },
    "accelerator": "GPU"
  },
  "cells": [
    {
      "cell_type": "markdown",
      "metadata": {
        "id": "view-in-github",
        "colab_type": "text"
      },
      "source": [
        "<a href=\"https://colab.research.google.com/github/sugiyama404/ReinfoceLearningForTrading/blob/main/any_and_multiprosess.ipynb\" target=\"_parent\"><img src=\"https://colab.research.google.com/assets/colab-badge.svg\" alt=\"Open In Colab\"/></a>"
      ]
    },
    {
      "cell_type": "code",
      "metadata": {
        "id": "9dRZba1yIIYi"
      },
      "source": [
        "from concurrent.futures import ThreadPoolExecutor as PoolExecutor\n",
        "from multiprocessing import Process\n",
        "from time import sleep\n",
        "import random\n",
        "import threading\n",
        "import time\n",
        "from multiprocessing import Pool\n",
        "\n",
        "arr = []"
      ],
      "execution_count": 1,
      "outputs": []
    },
    {
      "cell_type": "markdown",
      "metadata": {
        "id": "UxhqRs6-rrrq"
      },
      "source": [
        "# 通常のループ"
      ]
    },
    {
      "cell_type": "code",
      "metadata": {
        "colab": {
          "base_uri": "https://localhost:8080/"
        },
        "id": "kvjuoFRdrrKX",
        "outputId": "a0f9ad69-f2d6-4bd1-994f-e5b7af01ff6d"
      },
      "source": [
        "class Worker:\n",
        "    def __init__(self, thread_name):\n",
        "        self.thread_name = thread_name\n",
        "        self.num = 0\n",
        "\n",
        "    def run(self):\n",
        "        while True:\n",
        "            print('roop_name  = ' + self.thread_name + '  :num ＝ '+ str(self.num))\n",
        "            sleep(1)\n",
        "            self.num += 1\n",
        "            if self.num == 3:\n",
        "                break\n",
        "\n",
        "name = 'nomal-roop'\n",
        "start = time.time()\n",
        "\n",
        "for i in range(4):\n",
        "    w = Worker('roop_point_'+str(i))\n",
        "    w.run()\n",
        "\n",
        "end = time.time() - start\n",
        "arr.append(\"name:\" + name + \" process_time:{0}\".format(end) + \"[s]\")"
      ],
      "execution_count": 2,
      "outputs": [
        {
          "output_type": "stream",
          "text": [
            "roop_name  = roop_point_0  :num ＝ 0\n",
            "roop_name  = roop_point_0  :num ＝ 1\n",
            "roop_name  = roop_point_0  :num ＝ 2\n",
            "roop_name  = roop_point_1  :num ＝ 0\n",
            "roop_name  = roop_point_1  :num ＝ 1\n",
            "roop_name  = roop_point_1  :num ＝ 2\n",
            "roop_name  = roop_point_2  :num ＝ 0\n",
            "roop_name  = roop_point_2  :num ＝ 1\n",
            "roop_name  = roop_point_2  :num ＝ 2\n",
            "roop_name  = roop_point_3  :num ＝ 0\n",
            "roop_name  = roop_point_3  :num ＝ 1\n",
            "roop_name  = roop_point_3  :num ＝ 2\n"
          ],
          "name": "stdout"
        }
      ]
    },
    {
      "cell_type": "markdown",
      "metadata": {
        "id": "XwWKuOZA1AA8"
      },
      "source": [
        "# マルチスレッド"
      ]
    },
    {
      "cell_type": "code",
      "metadata": {
        "colab": {
          "base_uri": "https://localhost:8080/"
        },
        "id": "_VJ68OdWxaVN",
        "outputId": "f0e35ab1-49f1-4b56-b08c-fd1e94075f12"
      },
      "source": [
        "class Worker(threading.Thread):\n",
        "    def __init__(self, thread_name):\n",
        "        self.thread_name = thread_name\n",
        "        self.num = 0\n",
        "        threading.Thread.__init__(self)\n",
        "\n",
        "    def run(self):\n",
        "        while True:\n",
        "            print('thread_name  = ' + self.thread_name + '  :num ＝ '+ str(self.num) +' ')\n",
        "            sleep(1)\n",
        "            self.num += 1\n",
        "            if self.num == 3:\n",
        "                break\n",
        "\n",
        "name = 'multi-thread'\n",
        "start = time.time()\n",
        "\n",
        "thread_list = []\n",
        "for i in range(4):\n",
        "    thread = Worker('thread_point_'+str(i))\n",
        "    thread.start()\n",
        "    thread_list.append(thread)\n",
        "\n",
        "for thread in thread_list:\n",
        "    thread.join()\n",
        "\n",
        "end = time.time() - start\n",
        "arr.append(\"name:\" + name + \" process_time:{0}\".format(end) + \"[s]\")"
      ],
      "execution_count": 3,
      "outputs": [
        {
          "output_type": "stream",
          "text": [
            "thread_name  = thread_point_0  :num ＝ 0 \n",
            "thread_name  = thread_point_1  :num ＝ 0 \n",
            "thread_name  = thread_point_2  :num ＝ 0 \n",
            "thread_name  = thread_point_3  :num ＝ 0 \n",
            "thread_name  = thread_point_0  :num ＝ 1 \n",
            "thread_name  = thread_point_1  :num ＝ 1 thread_name  = thread_point_2  :num ＝ 1 \n",
            "\n",
            "thread_name  = thread_point_3  :num ＝ 1 \n",
            "thread_name  = thread_point_0  :num ＝ 2 \n",
            "thread_name  = thread_point_1  :num ＝ 2 thread_name  = thread_point_2  :num ＝ 2 \n",
            "\n",
            "thread_name  = thread_point_3  :num ＝ 2 \n"
          ],
          "name": "stdout"
        }
      ]
    },
    {
      "cell_type": "markdown",
      "metadata": {
        "id": "BvTEPnziES51"
      },
      "source": [
        "# マルチプロセス"
      ]
    },
    {
      "cell_type": "code",
      "metadata": {
        "colab": {
          "base_uri": "https://localhost:8080/"
        },
        "id": "fl86FIC0DPI5",
        "outputId": "4f8bb475-9fd3-462f-b40c-d03d7321e72e"
      },
      "source": [
        "class Worker:\n",
        "    def __init__(self, process_name):\n",
        "        self.process_name = process_name\n",
        "        self.num = 0\n",
        "\n",
        "    def run(self):\n",
        "        while True:\n",
        "            print('process_name  = ' + self.process_name + '  :num ＝ '+ str(self.num))\n",
        "            sleep(1)\n",
        "            self.num += 1\n",
        "            if self.num == 3:\n",
        "                break\n",
        "\n",
        "name = 'multi-process'\n",
        "start = time.time()\n",
        "\n",
        "p_inst = [Worker('work1'),Worker('work2'),Worker('work3'),Worker('work4')]\n",
        "worker = []\n",
        "for i in p_inst:\n",
        "    p = Process(target=i.run,)\n",
        "    worker.append(p)\n",
        "    p.start()\n",
        "\n",
        "for w in worker:\n",
        "    w.join()\n",
        "\n",
        "end = time.time() - start\n",
        "arr.append(\"name:\" + name + \" process_time:{0}\".format(end) + \"[s]\")"
      ],
      "execution_count": 4,
      "outputs": [
        {
          "output_type": "stream",
          "text": [
            "process_name  = work1  :num ＝ 0\n",
            "process_name  = work2  :num ＝ 0\n",
            "process_name  = work3  :num ＝ 0\n",
            "process_name  = work4  :num ＝ 0\n",
            "process_name  = work1  :num ＝ 1\n",
            "process_name  = work2  :num ＝ 1\n",
            "process_name  = work3  :num ＝ 1\n",
            "process_name  = work4  :num ＝ 1\n",
            "process_name  = work1  :num ＝ 2\n",
            "process_name  = work2  :num ＝ 2\n",
            "process_name  = work3  :num ＝ 2\n",
            "process_name  = work4  :num ＝ 2\n"
          ],
          "name": "stdout"
        }
      ]
    },
    {
      "cell_type": "markdown",
      "metadata": {
        "id": "00ZfGgMUIeBV"
      },
      "source": [
        "# ThreadPool"
      ]
    },
    {
      "cell_type": "code",
      "metadata": {
        "colab": {
          "base_uri": "https://localhost:8080/"
        },
        "id": "h1jNz_VcIahD",
        "outputId": "181b5fbc-8e52-4819-93da-1a29fbb6b2f9"
      },
      "source": [
        "class Worker:\n",
        "    def __init__(self, thread_name):\n",
        "        self.thread_name = thread_name\n",
        "        self.num = 0\n",
        "\n",
        "    def run(self):\n",
        "        while True:\n",
        "            print('thread_name  = ' + self.thread_name + '  :num ＝ '+ str(self.num) + ' ')\n",
        "            sleep(1)\n",
        "            self.num += 1\n",
        "            if self.num == 3:\n",
        "                break\n",
        "\n",
        "name = 'thread-pool'\n",
        "start = time.time()\n",
        "\n",
        "N_WORKERS = 4\n",
        "threads = []\n",
        "for i in range(N_WORKERS):\n",
        "    thread_name = 'local_{}'.format(i)\n",
        "    threads.append(Worker(thread_name=thread_name))\n",
        "\n",
        "features = []\n",
        "with PoolExecutor(max_workers=N_WORKERS) as executor:\n",
        "    for worker in threads:\n",
        "        job = lambda: worker.run()\n",
        "        features.append(executor.submit(job))\n",
        "\n",
        "end = time.time() - start\n",
        "arr.append(\"name:\" + name + \" process_time:{0}\".format(end) + \"[s]\")"
      ],
      "execution_count": 5,
      "outputs": [
        {
          "output_type": "stream",
          "text": [
            "thread_name  = local_0  :num ＝ 0 \n",
            "thread_name  = local_1  :num ＝ 0 \n",
            "thread_name  = local_2  :num ＝ 0 thread_name  = local_3  :num ＝ 0 \n",
            "\n",
            "thread_name  = local_0  :num ＝ 1 \n",
            "thread_name  = local_1  :num ＝ 1 \n",
            "thread_name  = local_2  :num ＝ 1 thread_name  = local_3  :num ＝ 1 \n",
            "\n",
            "thread_name  = local_0  :num ＝ 2 \n",
            "thread_name  = local_1  :num ＝ 2 \n",
            "thread_name  = local_2  :num ＝ 2 \n",
            "thread_name  = local_3  :num ＝ 2 \n"
          ],
          "name": "stdout"
        }
      ]
    },
    {
      "cell_type": "code",
      "metadata": {
        "colab": {
          "base_uri": "https://localhost:8080/"
        },
        "id": "MK8SXnvzL2BD",
        "outputId": "e341e270-a84a-48e4-f6ea-5a64b905c1c7"
      },
      "source": [
        "for a in arr:\n",
        "    print(a)"
      ],
      "execution_count": 6,
      "outputs": [
        {
          "output_type": "stream",
          "text": [
            "name:nomal-roop process_time:12.014471769332886[s]\n",
            "name:multi-thread process_time:3.0120253562927246[s]\n",
            "name:multi-process process_time:3.0351154804229736[s]\n",
            "name:thread-pool process_time:3.007843494415283[s]\n"
          ],
          "name": "stdout"
        }
      ]
    }
  ]
}