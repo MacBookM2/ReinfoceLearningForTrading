{
  "nbformat": 4,
  "nbformat_minor": 0,
  "metadata": {
    "colab": {
      "name": "any_and_multiprosess.ipynb",
      "provenance": [],
      "collapsed_sections": [],
      "machine_shape": "hm",
      "authorship_tag": "ABX9TyOwrCbYscnlp+7yHVOEW/fv",
      "include_colab_link": true
    },
    "kernelspec": {
      "name": "python3",
      "display_name": "Python 3"
    },
    "language_info": {
      "name": "python"
    },
    "accelerator": "GPU"
  },
  "cells": [
    {
      "cell_type": "markdown",
      "metadata": {
        "id": "view-in-github",
        "colab_type": "text"
      },
      "source": [
        "<a href=\"https://colab.research.google.com/github/sugiyama404/ReinfoceLearningForTrading/blob/main/any_and_multiprosess.ipynb\" target=\"_parent\"><img src=\"https://colab.research.google.com/assets/colab-badge.svg\" alt=\"Open In Colab\"/></a>"
      ]
    },
    {
      "cell_type": "code",
      "metadata": {
        "id": "9dRZba1yIIYi"
      },
      "source": [
        "from concurrent.futures import ThreadPoolExecutor as PoolExecutor\n",
        "from multiprocessing import Process\n",
        "from time import sleep\n",
        "import random\n",
        "import threading\n",
        "import time\n",
        "from multiprocessing import Pool\n",
        "\n",
        "arr = []"
      ],
      "execution_count": 1,
      "outputs": []
    },
    {
      "cell_type": "markdown",
      "metadata": {
        "id": "UxhqRs6-rrrq"
      },
      "source": [
        "# 通常のループ"
      ]
    },
    {
      "cell_type": "code",
      "metadata": {
        "colab": {
          "base_uri": "https://localhost:8080/"
        },
        "id": "kvjuoFRdrrKX",
        "outputId": "0b298296-d6bd-49c3-a918-f95341efa6ad"
      },
      "source": [
        "class Worker:\n",
        "    def __init__(self, thread_name):\n",
        "        self.thread_name = thread_name\n",
        "        self.num = 0\n",
        "\n",
        "    def run(self):\n",
        "        while True:\n",
        "            print('roop_name  = ' + self.thread_name + '  :num ＝ '+ str(self.num))\n",
        "            sleep(1)\n",
        "            self.num += 1\n",
        "            if self.num == 3:\n",
        "                break\n",
        "\n",
        "name = 'nomal-roop'\n",
        "start = time.time()\n",
        "\n",
        "for i in range(4):\n",
        "    w = Worker('roop_point_'+str(i))\n",
        "    w.run()\n",
        "\n",
        "end = time.time() - start\n",
        "arr.append(\"name:\" + name + \" process_time:{0}\".format(end) + \"[s]\")"
      ],
      "execution_count": 2,
      "outputs": [
        {
          "output_type": "stream",
          "text": [
            "roop_name  = roop_point_0  :num ＝ 0\n",
            "roop_name  = roop_point_0  :num ＝ 1\n",
            "roop_name  = roop_point_0  :num ＝ 2\n",
            "roop_name  = roop_point_1  :num ＝ 0\n",
            "roop_name  = roop_point_1  :num ＝ 1\n",
            "roop_name  = roop_point_1  :num ＝ 2\n",
            "roop_name  = roop_point_2  :num ＝ 0\n",
            "roop_name  = roop_point_2  :num ＝ 1\n",
            "roop_name  = roop_point_2  :num ＝ 2\n",
            "roop_name  = roop_point_3  :num ＝ 0\n",
            "roop_name  = roop_point_3  :num ＝ 1\n",
            "roop_name  = roop_point_3  :num ＝ 2\n"
          ],
          "name": "stdout"
        }
      ]
    },
    {
      "cell_type": "markdown",
      "metadata": {
        "id": "XwWKuOZA1AA8"
      },
      "source": [
        "# マルチスレッド"
      ]
    },
    {
      "cell_type": "code",
      "metadata": {
        "colab": {
          "base_uri": "https://localhost:8080/"
        },
        "id": "_VJ68OdWxaVN",
        "outputId": "ebd9f987-d806-4d74-d9d4-c31dfc8fa9be"
      },
      "source": [
        "class Worker(threading.Thread):\n",
        "    def __init__(self, thread_name):\n",
        "        self.thread_name = thread_name\n",
        "        self.num = 0\n",
        "        threading.Thread.__init__(self)\n",
        "\n",
        "    def run(self):\n",
        "        while True:\n",
        "            print('thread_name  = ' + self.thread_name + '  :num ＝ '+ str(self.num) +' ')\n",
        "            sleep(1)\n",
        "            self.num += 1\n",
        "            if self.num == 3:\n",
        "                break\n",
        "\n",
        "name = 'multi-thread'\n",
        "start = time.time()\n",
        "\n",
        "thread_list = []\n",
        "for i in range(4):\n",
        "    thread = Worker('thread_point_'+str(i))\n",
        "    thread.start()\n",
        "    thread_list.append(thread)\n",
        "\n",
        "for thread in thread_list:\n",
        "    thread.join()\n",
        "\n",
        "end = time.time() - start\n",
        "arr.append(\"name:\" + name + \" process_time:{0}\".format(end) + \"[s]\")"
      ],
      "execution_count": 3,
      "outputs": [
        {
          "output_type": "stream",
          "text": [
            "thread_name  = thread_point_0  :num ＝ 0 \n",
            "thread_name  = thread_point_1  :num ＝ 0 \n",
            "thread_name  = thread_point_2  :num ＝ 0 \n",
            "thread_name  = thread_point_3  :num ＝ 0 \n",
            "thread_name  = thread_point_0  :num ＝ 1 \n",
            "thread_name  = thread_point_1  :num ＝ 1 \n",
            "thread_name  = thread_point_2  :num ＝ 1 \n",
            "thread_name  = thread_point_3  :num ＝ 1 \n",
            "thread_name  = thread_point_0  :num ＝ 2 \n",
            "thread_name  = thread_point_1  :num ＝ 2 \n",
            "thread_name  = thread_point_2  :num ＝ 2 thread_name  = thread_point_3  :num ＝ 2 \n",
            "\n"
          ],
          "name": "stdout"
        }
      ]
    },
    {
      "cell_type": "markdown",
      "metadata": {
        "id": "BvTEPnziES51"
      },
      "source": [
        "# マルチプロセス"
      ]
    },
    {
      "cell_type": "code",
      "metadata": {
        "colab": {
          "base_uri": "https://localhost:8080/"
        },
        "id": "fl86FIC0DPI5",
        "outputId": "dc9a7ecd-16d4-4d1a-fab3-3de028be5dd2"
      },
      "source": [
        "class Worker:\n",
        "    def __init__(self, process_name):\n",
        "        self.process_name = process_name\n",
        "        self.num = 0\n",
        "\n",
        "    def run(self):\n",
        "        while True:\n",
        "            print('process_name  = ' + self.process_name + '  :num ＝ '+ str(self.num))\n",
        "            sleep(1)\n",
        "            self.num += 1\n",
        "            if self.num == 3:\n",
        "                break\n",
        "\n",
        "name = 'multi-process'\n",
        "start = time.time()\n",
        "\n",
        "w1 = Worker('work1')\n",
        "w2 = Worker('work2')\n",
        "w3 = Worker('work3')\n",
        "w4 = Worker('work4')\n",
        "\n",
        "p1 = Process(target=w1.run)\n",
        "p2 = Process(target=w2.run)\n",
        "p3 = Process(target=w3.run)\n",
        "p4 = Process(target=w4.run)\n",
        "\n",
        "p1.start()\n",
        "p2.start()\n",
        "p3.start()\n",
        "p4.start()\n",
        "\n",
        "p1.join()\n",
        "p2.join()\n",
        "p3.join()\n",
        "p4.join()\n",
        "\n",
        "end = time.time() - start\n",
        "arr.append(\"name:\" + name + \" process_time:{0}\".format(end) + \"[s]\")"
      ],
      "execution_count": 4,
      "outputs": [
        {
          "output_type": "stream",
          "text": [
            "process_name  = work1  :num ＝ 0\n",
            "process_name  = work2  :num ＝ 0\n",
            "process_name  = work3  :num ＝ 0\n",
            "process_name  = work4  :num ＝ 0\n",
            "process_name  = work1  :num ＝ 1\n",
            "process_name  = work2  :num ＝ 1\n",
            "process_name  = work3  :num ＝ 1\n",
            "process_name  = work4  :num ＝ 1\n",
            "process_name  = work1  :num ＝ 2\n",
            "process_name  = work2  :num ＝ 2\n",
            "process_name  = work3  :num ＝ 2\n",
            "process_name  = work4  :num ＝ 2\n"
          ],
          "name": "stdout"
        }
      ]
    },
    {
      "cell_type": "markdown",
      "metadata": {
        "id": "00ZfGgMUIeBV"
      },
      "source": [
        "# ThreadPool"
      ]
    },
    {
      "cell_type": "code",
      "metadata": {
        "colab": {
          "base_uri": "https://localhost:8080/"
        },
        "id": "h1jNz_VcIahD",
        "outputId": "26acc10e-529c-46fc-94cf-0bc91dac3126"
      },
      "source": [
        "class Worker:\n",
        "    def __init__(self, thread_name):\n",
        "        self.thread_name = thread_name\n",
        "        self.num = 0\n",
        "\n",
        "    def run(self):\n",
        "        while True:\n",
        "            print('thread_name  = ' + self.thread_name + '  :num ＝ '+ str(self.num) + ' ')\n",
        "            sleep(1)\n",
        "            self.num += 1\n",
        "            if self.num == 3:\n",
        "                break\n",
        "\n",
        "name = 'thread-pool'\n",
        "start = time.time()\n",
        "\n",
        "N_WORKERS = 4\n",
        "threads = []\n",
        "for i in range(N_WORKERS):\n",
        "    thread_name = 'local_{}'.format(i)\n",
        "    threads.append(Worker(thread_name=thread_name))\n",
        "\n",
        "features = []\n",
        "with PoolExecutor(max_workers=N_WORKERS) as executor:\n",
        "    for worker in threads:\n",
        "        job = lambda: worker.run()\n",
        "        features.append(executor.submit(job))\n",
        "\n",
        "end = time.time() - start\n",
        "arr.append(\"name:\" + name + \" process_time:{0}\".format(end) + \"[s]\")"
      ],
      "execution_count": 5,
      "outputs": [
        {
          "output_type": "stream",
          "text": [
            "thread_name  = local_0  :num ＝ 0 \n",
            "thread_name  = local_1  :num ＝ 0 \n",
            "thread_name  = local_2  :num ＝ 0 \n",
            "thread_name  = local_3  :num ＝ 0 \n",
            "thread_name  = local_0  :num ＝ 1 \n",
            "thread_name  = local_1  :num ＝ 1 thread_name  = local_3  :num ＝ 1 thread_name  = local_2  :num ＝ 1 \n",
            "\n",
            "\n",
            "thread_name  = local_0  :num ＝ 2 \n",
            "thread_name  = local_2  :num ＝ 2 \n",
            "thread_name  = local_3  :num ＝ 2 \n",
            "thread_name  = local_1  :num ＝ 2 \n"
          ],
          "name": "stdout"
        }
      ]
    },
    {
      "cell_type": "code",
      "metadata": {
        "colab": {
          "base_uri": "https://localhost:8080/"
        },
        "id": "MK8SXnvzL2BD",
        "outputId": "6f037aca-68d3-46ca-b1f9-8fee97b265f3"
      },
      "source": [
        "for a in arr:\n",
        "    print(a)"
      ],
      "execution_count": 6,
      "outputs": [
        {
          "output_type": "stream",
          "text": [
            "name:nomal-roop process_time:12.014482498168945[s]\n",
            "name:multi-thread process_time:3.015014171600342[s]\n",
            "name:multi-process process_time:3.03906512260437[s]\n",
            "name:thread-pool process_time:3.0059163570404053[s]\n"
          ],
          "name": "stdout"
        }
      ]
    }
  ]
}