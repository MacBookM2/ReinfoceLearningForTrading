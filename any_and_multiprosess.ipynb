{
  "nbformat": 4,
  "nbformat_minor": 0,
  "metadata": {
    "colab": {
      "name": "any_and_multiprosess.ipynb",
      "provenance": [],
      "collapsed_sections": [],
      "machine_shape": "hm",
      "authorship_tag": "ABX9TyMum66KrYWLKy9jnAHS9h4G",
      "include_colab_link": true
    },
    "kernelspec": {
      "name": "python3",
      "display_name": "Python 3"
    },
    "language_info": {
      "name": "python"
    },
    "accelerator": "GPU"
  },
  "cells": [
    {
      "cell_type": "markdown",
      "metadata": {
        "id": "view-in-github",
        "colab_type": "text"
      },
      "source": [
        "<a href=\"https://colab.research.google.com/github/sugiyama404/ReinfoceLearningForTrading/blob/main/any_and_multiprosess.ipynb\" target=\"_parent\"><img src=\"https://colab.research.google.com/assets/colab-badge.svg\" alt=\"Open In Colab\"/></a>"
      ]
    },
    {
      "cell_type": "code",
      "metadata": {
        "id": "9dRZba1yIIYi"
      },
      "source": [
        "from concurrent.futures import ThreadPoolExecutor\n",
        "from multiprocessing import Process\n",
        "from time import sleep\n",
        "import random\n",
        "import threading\n",
        "import time\n",
        "from multiprocessing import Pool\n",
        "import random\n",
        "\n",
        "import matplotlib.pyplot as plt\n",
        "import seaborn as sns\n",
        "\n",
        "arr = []"
      ],
      "execution_count": 1,
      "outputs": []
    },
    {
      "cell_type": "markdown",
      "metadata": {
        "id": "UxhqRs6-rrrq"
      },
      "source": [
        "# 通常のループ"
      ]
    },
    {
      "cell_type": "code",
      "metadata": {
        "colab": {
          "base_uri": "https://localhost:8080/"
        },
        "id": "kvjuoFRdrrKX",
        "outputId": "b7ae67bc-bebd-4bae-8e42-cb3984975484"
      },
      "source": [
        "class Task:\n",
        "    def __init__(self, name):\n",
        "        self.name = name\n",
        "        self.num = 0\n",
        "        self.sum = 0.0\n",
        "\n",
        "    def run(self):\n",
        "        while True:\n",
        "            sleep(1)\n",
        "            if self.num == 3:\n",
        "                break\n",
        "            print('roop_name  = ' + self.name + '  :num ＝ '+ str(self.num) + '  :sum ＝ '+ str(self.sum))\n",
        "            self.num += 1\n",
        "            self.sum += random.random()\n",
        "\n",
        "\n",
        "name = 'nomal-roop'\n",
        "start = time.time()\n",
        "\n",
        "for i in range(4):\n",
        "    w = Task('roop_point_'+str(i))\n",
        "    w.run()\n",
        "\n",
        "end = time.time() - start\n",
        "arr.append(\"name:\" + name + \" process_time:{0}\".format(end) + \"[s]\")"
      ],
      "execution_count": 2,
      "outputs": [
        {
          "output_type": "stream",
          "text": [
            "roop_name  = roop_point_0  :num ＝ 0  :sum ＝ 0.0\n",
            "roop_name  = roop_point_0  :num ＝ 1  :sum ＝ 0.24926001319403257\n",
            "roop_name  = roop_point_0  :num ＝ 2  :sum ＝ 0.8337218920057063\n",
            "roop_name  = roop_point_1  :num ＝ 0  :sum ＝ 0.0\n",
            "roop_name  = roop_point_1  :num ＝ 1  :sum ＝ 0.5314894566225608\n",
            "roop_name  = roop_point_1  :num ＝ 2  :sum ＝ 1.337673573390247\n",
            "roop_name  = roop_point_2  :num ＝ 0  :sum ＝ 0.0\n",
            "roop_name  = roop_point_2  :num ＝ 1  :sum ＝ 0.999291475728905\n",
            "roop_name  = roop_point_2  :num ＝ 2  :sum ＝ 1.4602431119757115\n",
            "roop_name  = roop_point_3  :num ＝ 0  :sum ＝ 0.0\n",
            "roop_name  = roop_point_3  :num ＝ 1  :sum ＝ 0.39296144227857377\n",
            "roop_name  = roop_point_3  :num ＝ 2  :sum ＝ 0.5813430457825914\n"
          ],
          "name": "stdout"
        }
      ]
    },
    {
      "cell_type": "markdown",
      "metadata": {
        "id": "XwWKuOZA1AA8"
      },
      "source": [
        "# マルチスレッド"
      ]
    },
    {
      "cell_type": "code",
      "metadata": {
        "colab": {
          "base_uri": "https://localhost:8080/"
        },
        "id": "_VJ68OdWxaVN",
        "outputId": "ab4d6ad9-273f-4782-8149-030294ae0c41"
      },
      "source": [
        "class Task(threading.Thread):\n",
        "    def __init__(self, thread_name):\n",
        "        self.thread_name = thread_name\n",
        "        self.num = 0\n",
        "        self.sum = 0.0\n",
        "        threading.Thread.__init__(self)\n",
        "\n",
        "    def run(self):\n",
        "        while True:\n",
        "            sleep(1)\n",
        "            if self.num == 3:\n",
        "                break\n",
        "            print('roop_name  = ' + self.thread_name + '  :num ＝ '+ str(self.num) + '  :sum ＝ '+ str(self.sum))\n",
        "\n",
        "            self.num += 1\n",
        "            self.sum += random.random()\n",
        "\n",
        "name = 'multi-thread'\n",
        "start = time.time()\n",
        "\n",
        "thread_list = []\n",
        "for i in range(4):\n",
        "    thread = Task('thread_point_'+str(i))\n",
        "    thread.start()\n",
        "    thread_list.append(thread)\n",
        "\n",
        "for thread in thread_list:\n",
        "    thread.join()\n",
        "\n",
        "end = time.time() - start\n",
        "arr.append(\"name:\" + name + \" process_time:{0}\".format(end) + \"[s]\")"
      ],
      "execution_count": 3,
      "outputs": [
        {
          "output_type": "stream",
          "text": [
            "roop_name  = thread_point_0  :num ＝ 0  :sum ＝ 0.0\n",
            "roop_name  = thread_point_3  :num ＝ 0  :sum ＝ 0.0\n",
            "roop_name  = thread_point_1  :num ＝ 0  :sum ＝ 0.0\n",
            "roop_name  = thread_point_2  :num ＝ 0  :sum ＝ 0.0\n",
            "roop_name  = thread_point_3  :num ＝ 1  :sum ＝ 0.06418840387133118\n",
            "roop_name  = thread_point_0  :num ＝ 1  :sum ＝ 0.03190775605401497roop_name  = thread_point_1  :num ＝ 1  :sum ＝ 0.1995787081105458roop_name  = thread_point_2  :num ＝ 1  :sum ＝ 0.4555751177346741\n",
            "\n",
            "\n",
            "roop_name  = thread_point_3  :num ＝ 2  :sum ＝ 0.5238894527365695\n",
            "roop_name  = thread_point_2  :num ＝ 2  :sum ＝ 1.0852987829115839\n",
            "roop_name  = thread_point_0  :num ＝ 2  :sum ＝ 0.8191987943884391\n",
            "roop_name  = thread_point_1  :num ＝ 2  :sum ＝ 0.8022645345844467\n"
          ],
          "name": "stdout"
        }
      ]
    },
    {
      "cell_type": "markdown",
      "metadata": {
        "id": "BvTEPnziES51"
      },
      "source": [
        "# マルチプロセス"
      ]
    },
    {
      "cell_type": "code",
      "metadata": {
        "colab": {
          "base_uri": "https://localhost:8080/"
        },
        "id": "fl86FIC0DPI5",
        "outputId": "afb2a565-fadc-42d5-f485-e77644d1d01e"
      },
      "source": [
        "class Task:\n",
        "    def __init__(self, name):\n",
        "        self.name = name\n",
        "        self.num = 0\n",
        "        self.sum = 0.0\n",
        "\n",
        "    def run(self):\n",
        "        while True:\n",
        "            sleep(1)\n",
        "            if self.num == 3:\n",
        "                break\n",
        "            print('roop_name  = ' + self.name + '  :num ＝ ' + str(self.num) + '  :sum ＝ ' + str(self.sum))\n",
        "            self.num += 1\n",
        "            self.sum += random.random()\n",
        "\n",
        "name = 'multi-process'\n",
        "start = time.time()\n",
        "\n",
        "p_inst = [Task('work1'),Task('work2'),Task('work3'),Task('work4')]\n",
        "Task = []\n",
        "for i in p_inst:\n",
        "    p = Process(target=i.run,)\n",
        "    Task.append(p)\n",
        "    p.start()\n",
        "\n",
        "for w in Task:\n",
        "    w.join()\n",
        "\n",
        "end = time.time() - start\n",
        "arr.append(\"name:\" + name + \" process_time:{0}\".format(end) + \"[s]\")"
      ],
      "execution_count": 4,
      "outputs": [
        {
          "output_type": "stream",
          "text": [
            "roop_name  = work1  :num ＝ 0  :sum ＝ 0.0\n",
            "roop_name  = work2  :num ＝ 0  :sum ＝ 0.0\n",
            "roop_name  = work3  :num ＝ 0  :sum ＝ 0.0\n",
            "roop_name  = work4  :num ＝ 0  :sum ＝ 0.0\n",
            "roop_name  = work1  :num ＝ 1  :sum ＝ 0.04447026789945496\n",
            "roop_name  = work2  :num ＝ 1  :sum ＝ 0.9639025258165735\n",
            "roop_name  = work3  :num ＝ 1  :sum ＝ 0.23895611026753627\n",
            "roop_name  = work4  :num ＝ 1  :sum ＝ 0.16560138043429384\n",
            "roop_name  = work1  :num ＝ 2  :sum ＝ 0.388210404761679\n",
            "roop_name  = work2  :num ＝ 2  :sum ＝ 1.7781431031594095\n",
            "roop_name  = work3  :num ＝ 2  :sum ＝ 1.0059366313416964\n",
            "roop_name  = work4  :num ＝ 2  :sum ＝ 0.2383703040582893\n"
          ],
          "name": "stdout"
        }
      ]
    },
    {
      "cell_type": "markdown",
      "metadata": {
        "id": "00ZfGgMUIeBV"
      },
      "source": [
        "# ThreadPool"
      ]
    },
    {
      "cell_type": "code",
      "metadata": {
        "colab": {
          "base_uri": "https://localhost:8080/"
        },
        "id": "h1jNz_VcIahD",
        "outputId": "f48a6a39-0e31-4b1c-9116-033ce7654c86"
      },
      "source": [
        "class Task:\n",
        "    def __init__(self, name):\n",
        "        self.name = name\n",
        "        self.num = 0\n",
        "        self.sum = 0.0\n",
        "\n",
        "    def run(self):\n",
        "        while True:\n",
        "            sleep(1)\n",
        "            if self.num == 3:\n",
        "                break\n",
        "            print('roop_name  = ' + self.name + '  :num ＝ ' + str(self.num) + '  :sum ＝ ' + str(self.sum))\n",
        "            self.num += 1\n",
        "            self.sum += random.random()\n",
        "\n",
        "name = 'thread-pool'\n",
        "start = time.time()\n",
        "\n",
        "thread_num = 4\n",
        "threads = []\n",
        "for i in range(thread_num):\n",
        "    threads.append(Task(name=f'thread_{i}'))\n",
        "\n",
        "datas = []\n",
        "with ThreadPoolExecutor(max_workers = thread_num) as executor:\n",
        "    for task in threads:\n",
        "        job = lambda: task.run()\n",
        "        datas.append(executor.submit(job))\n",
        "\n",
        "end = time.time() - start\n",
        "arr.append(\"name:\" + name + \" process_time:{0}\".format(end) + \"[s]\")"
      ],
      "execution_count": 11,
      "outputs": [
        {
          "output_type": "stream",
          "text": [
            "roop_name  = thread_0  :num ＝ 0  :sum ＝ 0.0\n",
            "roop_name  = thread_1  :num ＝ 0  :sum ＝ 0.0\n",
            "roop_name  = thread_2  :num ＝ 0  :sum ＝ 0.0\n",
            "roop_name  = thread_3  :num ＝ 0  :sum ＝ 0.0\n",
            "roop_name  = thread_0  :num ＝ 1  :sum ＝ 0.7829927782861958\n",
            "roop_name  = thread_2  :num ＝ 1  :sum ＝ 0.7264674393557742\n",
            "roop_name  = thread_1  :num ＝ 1  :sum ＝ 0.4721450639806136\n",
            "roop_name  = thread_3  :num ＝ 1  :sum ＝ 0.2746835685320669\n",
            "roop_name  = thread_0  :num ＝ 2  :sum ＝ 0.8189509274906515\n",
            "roop_name  = thread_1  :num ＝ 2  :sum ＝ 0.7522106668563098\n",
            "roop_name  = thread_2  :num ＝ 2  :sum ＝ 1.3346477522815392\n",
            "roop_name  = thread_3  :num ＝ 2  :sum ＝ 0.33216049073474685\n"
          ],
          "name": "stdout"
        }
      ]
    },
    {
      "cell_type": "code",
      "metadata": {
        "colab": {
          "base_uri": "https://localhost:8080/"
        },
        "id": "MK8SXnvzL2BD",
        "outputId": "8d262b8a-c74d-4b40-fd07-50d9219eab5c"
      },
      "source": [
        "for a in arr:\n",
        "    print(a)"
      ],
      "execution_count": 6,
      "outputs": [
        {
          "output_type": "stream",
          "text": [
            "name:nomal-roop process_time:16.019123792648315[s]\n",
            "name:multi-thread process_time:4.012226819992065[s]\n",
            "name:multi-process process_time:4.036954879760742[s]\n",
            "name:thread-pool process_time:4.007479429244995[s]\n"
          ],
          "name": "stdout"
        }
      ]
    },
    {
      "cell_type": "code",
      "metadata": {
        "colab": {
          "base_uri": "https://localhost:8080/"
        },
        "id": "aQ2PFz-bt4-z",
        "outputId": "19a49d79-e378-434a-8b0e-03d7ac42e1b4"
      },
      "source": [
        "from google.colab import drive\n",
        "import pandas as pd\n",
        "\n",
        "drive.mount('/content/drive/')\n",
        "exp_dir = 'Colab Notebooks/workspace/export/'\n",
        "\n",
        "process_path = '/content/drive/My Drive/' + exp_dir + 'm_process_random_test.csv'\n",
        "thread_path = '/content/drive/My Drive/' + exp_dir + 'm_thread_random_test.csv'\n",
        "df_p = pd.read_csv(process_path)\n",
        "df_t = pd.read_csv(thread_path)"
      ],
      "execution_count": 7,
      "outputs": [
        {
          "output_type": "stream",
          "text": [
            "Mounted at /content/drive/\n"
          ],
          "name": "stdout"
        }
      ]
    },
    {
      "cell_type": "code",
      "metadata": {
        "colab": {
          "base_uri": "https://localhost:8080/",
          "height": 419
        },
        "id": "8FDWtMuUvDNy",
        "outputId": "41cd624a-c7e0-4439-e52a-14f80b09c701"
      },
      "source": [
        "df_p['WinRate'] = df_p['TradeWin'] / df_p['TradeTimes'] * 100\n",
        "df_t['WinRate'] = df_t['TradeWin'] / df_t['TradeTimes'] * 100\n",
        "df_p['FixedProfitRate'] = df_p['FixedProfit'] /1000000 * 100\n",
        "df_t['FixedProfitRate'] = df_t['FixedProfit'] /1000000 * 100\n",
        "del df_p['FixedProfit']\n",
        "del df_p['TradeTimes']\n",
        "del df_p['TradeWin']\n",
        "del df_t['FixedProfit']\n",
        "del df_t['TradeTimes']\n",
        "del df_t['TradeWin']\n",
        "\n",
        "df_p"
      ],
      "execution_count": 8,
      "outputs": [
        {
          "output_type": "execute_result",
          "data": {
            "text/html": [
              "<div>\n",
              "<style scoped>\n",
              "    .dataframe tbody tr th:only-of-type {\n",
              "        vertical-align: middle;\n",
              "    }\n",
              "\n",
              "    .dataframe tbody tr th {\n",
              "        vertical-align: top;\n",
              "    }\n",
              "\n",
              "    .dataframe thead th {\n",
              "        text-align: right;\n",
              "    }\n",
              "</style>\n",
              "<table border=\"1\" class=\"dataframe\">\n",
              "  <thead>\n",
              "    <tr style=\"text-align: right;\">\n",
              "      <th></th>\n",
              "      <th>WinRate</th>\n",
              "      <th>FixedProfitRate</th>\n",
              "    </tr>\n",
              "  </thead>\n",
              "  <tbody>\n",
              "    <tr>\n",
              "      <th>0</th>\n",
              "      <td>58.064516</td>\n",
              "      <td>112.888860</td>\n",
              "    </tr>\n",
              "    <tr>\n",
              "      <th>1</th>\n",
              "      <td>58.219178</td>\n",
              "      <td>137.963192</td>\n",
              "    </tr>\n",
              "    <tr>\n",
              "      <th>2</th>\n",
              "      <td>60.130719</td>\n",
              "      <td>131.065069</td>\n",
              "    </tr>\n",
              "    <tr>\n",
              "      <th>3</th>\n",
              "      <td>61.313869</td>\n",
              "      <td>115.179210</td>\n",
              "    </tr>\n",
              "    <tr>\n",
              "      <th>4</th>\n",
              "      <td>62.000000</td>\n",
              "      <td>116.392299</td>\n",
              "    </tr>\n",
              "    <tr>\n",
              "      <th>...</th>\n",
              "      <td>...</td>\n",
              "      <td>...</td>\n",
              "    </tr>\n",
              "    <tr>\n",
              "      <th>95</th>\n",
              "      <td>64.179104</td>\n",
              "      <td>145.800731</td>\n",
              "    </tr>\n",
              "    <tr>\n",
              "      <th>96</th>\n",
              "      <td>56.737589</td>\n",
              "      <td>131.342188</td>\n",
              "    </tr>\n",
              "    <tr>\n",
              "      <th>97</th>\n",
              "      <td>59.420290</td>\n",
              "      <td>115.104706</td>\n",
              "    </tr>\n",
              "    <tr>\n",
              "      <th>98</th>\n",
              "      <td>58.904110</td>\n",
              "      <td>107.741981</td>\n",
              "    </tr>\n",
              "    <tr>\n",
              "      <th>99</th>\n",
              "      <td>61.392405</td>\n",
              "      <td>125.548069</td>\n",
              "    </tr>\n",
              "  </tbody>\n",
              "</table>\n",
              "<p>100 rows × 2 columns</p>\n",
              "</div>"
            ],
            "text/plain": [
              "      WinRate  FixedProfitRate\n",
              "0   58.064516       112.888860\n",
              "1   58.219178       137.963192\n",
              "2   60.130719       131.065069\n",
              "3   61.313869       115.179210\n",
              "4   62.000000       116.392299\n",
              "..        ...              ...\n",
              "95  64.179104       145.800731\n",
              "96  56.737589       131.342188\n",
              "97  59.420290       115.104706\n",
              "98  58.904110       107.741981\n",
              "99  61.392405       125.548069\n",
              "\n",
              "[100 rows x 2 columns]"
            ]
          },
          "metadata": {
            "tags": []
          },
          "execution_count": 8
        }
      ]
    },
    {
      "cell_type": "code",
      "metadata": {
        "colab": {
          "base_uri": "https://localhost:8080/",
          "height": 419
        },
        "id": "O9_rrCJK2bpI",
        "outputId": "18274162-aa41-4132-804e-0c492f219498"
      },
      "source": [
        "df_a = pd.DataFrame(columns=['MultiThread', 'MultiProcess'])\n",
        "df_a['MultiThread'] = df_t['FixedProfitRate']\n",
        "df_a['MultiProcess'] = df_p['FixedProfitRate']\n",
        "\n",
        "df_b = pd.DataFrame(columns=['MultiProcess'])\n",
        "df_b['MultiThread'] = df_t['WinRate']\n",
        "df_b['MultiProcess'] = df_p['WinRate']\n",
        "\n",
        "dfTa_melt = pd.melt(df_a)\n",
        "dfTa_melt['species'] = 'FixedProfitRate'\n",
        "\n",
        "dfAt_melt = pd.melt(df_b)\n",
        "dfAt_melt['species'] = 'WinRate'\n",
        "\n",
        "df = pd.concat([dfAt_melt, dfTa_melt], axis=0)\n",
        "df"
      ],
      "execution_count": 9,
      "outputs": [
        {
          "output_type": "execute_result",
          "data": {
            "text/html": [
              "<div>\n",
              "<style scoped>\n",
              "    .dataframe tbody tr th:only-of-type {\n",
              "        vertical-align: middle;\n",
              "    }\n",
              "\n",
              "    .dataframe tbody tr th {\n",
              "        vertical-align: top;\n",
              "    }\n",
              "\n",
              "    .dataframe thead th {\n",
              "        text-align: right;\n",
              "    }\n",
              "</style>\n",
              "<table border=\"1\" class=\"dataframe\">\n",
              "  <thead>\n",
              "    <tr style=\"text-align: right;\">\n",
              "      <th></th>\n",
              "      <th>variable</th>\n",
              "      <th>value</th>\n",
              "      <th>species</th>\n",
              "    </tr>\n",
              "  </thead>\n",
              "  <tbody>\n",
              "    <tr>\n",
              "      <th>0</th>\n",
              "      <td>MultiProcess</td>\n",
              "      <td>58.064516</td>\n",
              "      <td>WinRate</td>\n",
              "    </tr>\n",
              "    <tr>\n",
              "      <th>1</th>\n",
              "      <td>MultiProcess</td>\n",
              "      <td>58.219178</td>\n",
              "      <td>WinRate</td>\n",
              "    </tr>\n",
              "    <tr>\n",
              "      <th>2</th>\n",
              "      <td>MultiProcess</td>\n",
              "      <td>60.130719</td>\n",
              "      <td>WinRate</td>\n",
              "    </tr>\n",
              "    <tr>\n",
              "      <th>3</th>\n",
              "      <td>MultiProcess</td>\n",
              "      <td>61.313869</td>\n",
              "      <td>WinRate</td>\n",
              "    </tr>\n",
              "    <tr>\n",
              "      <th>4</th>\n",
              "      <td>MultiProcess</td>\n",
              "      <td>62.000000</td>\n",
              "      <td>WinRate</td>\n",
              "    </tr>\n",
              "    <tr>\n",
              "      <th>...</th>\n",
              "      <td>...</td>\n",
              "      <td>...</td>\n",
              "      <td>...</td>\n",
              "    </tr>\n",
              "    <tr>\n",
              "      <th>195</th>\n",
              "      <td>MultiProcess</td>\n",
              "      <td>145.800731</td>\n",
              "      <td>FixedProfitRate</td>\n",
              "    </tr>\n",
              "    <tr>\n",
              "      <th>196</th>\n",
              "      <td>MultiProcess</td>\n",
              "      <td>131.342188</td>\n",
              "      <td>FixedProfitRate</td>\n",
              "    </tr>\n",
              "    <tr>\n",
              "      <th>197</th>\n",
              "      <td>MultiProcess</td>\n",
              "      <td>115.104706</td>\n",
              "      <td>FixedProfitRate</td>\n",
              "    </tr>\n",
              "    <tr>\n",
              "      <th>198</th>\n",
              "      <td>MultiProcess</td>\n",
              "      <td>107.741981</td>\n",
              "      <td>FixedProfitRate</td>\n",
              "    </tr>\n",
              "    <tr>\n",
              "      <th>199</th>\n",
              "      <td>MultiProcess</td>\n",
              "      <td>125.548069</td>\n",
              "      <td>FixedProfitRate</td>\n",
              "    </tr>\n",
              "  </tbody>\n",
              "</table>\n",
              "<p>400 rows × 3 columns</p>\n",
              "</div>"
            ],
            "text/plain": [
              "         variable       value          species\n",
              "0    MultiProcess   58.064516          WinRate\n",
              "1    MultiProcess   58.219178          WinRate\n",
              "2    MultiProcess   60.130719          WinRate\n",
              "3    MultiProcess   61.313869          WinRate\n",
              "4    MultiProcess   62.000000          WinRate\n",
              "..            ...         ...              ...\n",
              "195  MultiProcess  145.800731  FixedProfitRate\n",
              "196  MultiProcess  131.342188  FixedProfitRate\n",
              "197  MultiProcess  115.104706  FixedProfitRate\n",
              "198  MultiProcess  107.741981  FixedProfitRate\n",
              "199  MultiProcess  125.548069  FixedProfitRate\n",
              "\n",
              "[400 rows x 3 columns]"
            ]
          },
          "metadata": {
            "tags": []
          },
          "execution_count": 9
        }
      ]
    },
    {
      "cell_type": "code",
      "metadata": {
        "colab": {
          "base_uri": "https://localhost:8080/",
          "height": 458
        },
        "id": "AiJaxFZv3Sfm",
        "outputId": "3c26c8d5-9ebe-4bff-92d5-6303ba6de847"
      },
      "source": [
        "plt.style.use('default')\n",
        "sns.set()\n",
        "sns.set_style('whitegrid')\n",
        "sns.set_palette('Set3')\n",
        "\n",
        "\n",
        "fig = plt.figure()\n",
        "ax = fig.add_subplot(1, 1, 1)\n",
        "sns.boxplot(x='variable', y='value', data=df, hue='species', palette='coolwarm_r', ax=ax)\n",
        "\n",
        "\n",
        "ax.set_xlabel('Type')\n",
        "ax.set_ylabel('Rate [%]')\n",
        "ax.set_ylim(0, 220)\n",
        "ax.legend()\n",
        "\n",
        "plt.show()"
      ],
      "execution_count": 10,
      "outputs": [
        {
          "output_type": "display_data",
          "data": {
            "image/png": "[encoded data removed]",
            "text/plain": [
              "<Figure size 640x480 with 1 Axes>"
            ]
          },
          "metadata": {
            "tags": []
          }
        }
      ]
    }
  ]
}