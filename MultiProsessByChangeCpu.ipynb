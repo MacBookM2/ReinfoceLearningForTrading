{
  "cells": [
    {
      "cell_type": "markdown",
      "metadata": {
        "id": "view-in-github",
        "colab_type": "text"
      },
      "source": [
        "<a href=\"https://colab.research.google.com/github/sugiyama404/ReinfoceLearningForTrading/blob/main/MultiProsessByChangeCpu.ipynb\" target=\"_parent\"><img src=\"https://colab.research.google.com/assets/colab-badge.svg\" alt=\"Open In Colab\"/></a>"
      ]
    },
    {
      "cell_type": "code",
      "execution_count": 6,
      "metadata": {
        "id": "dlNzx2ic10Iu"
      },
      "outputs": [],
      "source": [
        "import concurrent.futures\n",
        "import os"
      ]
    },
    {
      "cell_type": "code",
      "source": [
        "def env(arr):\n",
        "    print(arr)\n",
        "\n",
        "\n",
        "def worker(x, y):\n",
        "    os.environ[\"CUDA_VISIBLE_DEVICES\"] = \"\"\n",
        "    r = x + y\n",
        "    return r\n",
        "\n",
        "with concurrent.futures.ProcessPoolExecutor(max_workers=4) as executor:\n",
        "    f1 = executor.submit(worker, 2, 5)\n",
        "    f2 = executor.submit(worker, 2, 5)\n",
        "    f3 = executor.submit(worker, 2, 5)\n",
        "    f4 = executor.submit(worker, 2, 5)\n",
        "    arr = [f1.result(),f2.result(),f3.result(),f4.result()]\n",
        "    env(arr)"
      ],
      "metadata": {
        "colab": {
          "base_uri": "https://localhost:8080/"
        },
        "id": "8Lf9QnmZaQbu",
        "outputId": "3d87e9f6-bca5-4ab3-ac3d-f7a6e55bde81"
      },
      "execution_count": 8,
      "outputs": [
        {
          "output_type": "stream",
          "name": "stdout",
          "text": [
            "[7, 7, 7, 7]\n"
          ]
        }
      ]
    }
  ],
  "metadata": {
    "accelerator": "GPU",
    "colab": {
      "machine_shape": "hm",
      "name": "MultiProsessByChangeCpu.ipynb",
      "provenance": [],
      "collapsed_sections": [],
      "authorship_tag": "ABX9TyMyIv0QpTXSbw9a+mln7yKu",
      "include_colab_link": true
    },
    "kernelspec": {
      "display_name": "Python 3",
      "name": "python3"
    },
    "language_info": {
      "name": "python"
    }
  },
  "nbformat": 4,
  "nbformat_minor": 0
}