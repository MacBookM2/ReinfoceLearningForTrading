{
  "nbformat": 4,
  "nbformat_minor": 0,
  "metadata": {
    "colab": {
      "name": "a2c_train.ipynb",
      "provenance": [],
      "collapsed_sections": [],
      "machine_shape": "hm",
      "include_colab_link": true
    },
    "kernelspec": {
      "display_name": "Python 3",
      "name": "python3"
    },
    "language_info": {
      "name": "python"
    },
    "accelerator": "GPU"
  },
  "cells": [
    {
      "cell_type": "markdown",
      "metadata": {
        "id": "view-in-github",
        "colab_type": "text"
      },
      "source": [
        "<a href=\"https://colab.research.google.com/github/sugiyama404/ReinfoceLearningForTrading/blob/main/a2c_train.ipynb\" target=\"_parent\"><img src=\"https://colab.research.google.com/assets/colab-badge.svg\" alt=\"Open In Colab\"/></a>"
      ]
    },
    {
      "cell_type": "markdown",
      "metadata": {
        "id": "gZzwwLr3xtHi"
      },
      "source": [
        "## 0-1. インストール"
      ]
    },
    {
      "cell_type": "code",
      "metadata": {
        "colab": {
          "base_uri": "https://localhost:8080/"
        },
        "id": "5tAp1naUv8Mo",
        "outputId": "d8bcfeb1-d04c-4389-ed59-0c1e3136260e"
      },
      "source": [
        "import matplotlib.pyplot as plt\n",
        "import numpy as np\n",
        "import pandas as pd\n",
        "import time\n",
        "from datetime import datetime\n",
        "import random\n",
        "import copy\n",
        "\n",
        "import tensorflow as tf\n",
        "from tensorflow import keras\n",
        "from tensorflow.keras.optimizers import Adam\n",
        "from sklearn.preprocessing import StandardScaler\n",
        "\n",
        "from google.colab import drive\n",
        "\n",
        "drive.mount('/content/drive/')\n",
        "nov_dir = 'Colab Notebooks/dataset/reinforcement_learning/'\n",
        "nov_path = '/content/drive/My Drive/' + nov_dir + 'sp500_test.csv'\n",
        "'''\n",
        "exp_dir = 'Colab Notebooks/workspace/export/'\n",
        "csv_path = '/content/drive/My Drive/' + exp_dir + 'random_test.csv'\n",
        "'''\n",
        "\n",
        "df = pd.read_csv(nov_path)\n",
        "df['Date'] = pd.to_datetime(df['Date'], format = '%Y-%m-%d')"
      ],
      "execution_count": 1,
      "outputs": [
        {
          "output_type": "stream",
          "text": [
            "Mounted at /content/drive/\n"
          ],
          "name": "stdout"
        }
      ]
    },
    {
      "cell_type": "code",
      "metadata": {
        "id": "m51Mu4xy9-Nj"
      },
      "source": [
        "def make_scaler(env):\n",
        "\n",
        "    states = []\n",
        "    for _ in range(env.df_total_steps):\n",
        "        action = np.random.choice(env.action_space)\n",
        "        state, reward, done, info = env.step(action)\n",
        "        states.append(state)\n",
        "        if done:\n",
        "            break\n",
        "\n",
        "    scaler = StandardScaler()\n",
        "    scaler.fit(states)\n",
        "    return scaler"
      ],
      "execution_count": 2,
      "outputs": []
    },
    {
      "cell_type": "code",
      "metadata": {
        "id": "QUWpPcFntqTL"
      },
      "source": [
        "class Environment:\n",
        "    def __init__(self, df, initial_money=100000, mode = 'test'):\n",
        "\n",
        "        self.df = df.dropna().reset_index()\n",
        "        self.df_total_steps = len(self.df)-1\n",
        "        self.initial_money = initial_money\n",
        "        self.mode = mode\n",
        "        self.trade_time = None\n",
        "        self.trade_win = None\n",
        "        self.brfore_buy_cash = None\n",
        "        self.action_space = np.array([0, 1, 2])\n",
        "        self.hold_a_position = None\n",
        "        self.now_price = None\n",
        "        self.cash_in_hand = None\n",
        "\n",
        "        self.reset()\n",
        "        \n",
        "    def reset(self):\n",
        "\n",
        "        self.trade_time = 0\n",
        "        self.trade_win = 0\n",
        "        self.brfore_buy_cash = 0\n",
        "        self.end_step = self.df_total_steps\n",
        "        self.now_step = 0\n",
        "        self.hold_a_position = 0.0\n",
        "        self.now_price = self.df.loc[self.now_step, 'SP500']\n",
        "        self.cash_in_hand = self.initial_money\n",
        "\n",
        "        return self._get_now_state()\n",
        "\n",
        "    def step(self, action):\n",
        "\n",
        "        prev_revenue = self._get_revenue()\n",
        "        self.now_step += 1\n",
        "        self.now_price = self.df.loc[self.now_step, 'SP500']\n",
        " \n",
        "        done = (self.end_step == self.now_step)\n",
        "\n",
        "        self._trade(action,done)\n",
        "        cur_revenue = self._get_revenue()\n",
        " \n",
        "        reward = cur_revenue - prev_revenue\n",
        "\n",
        "        if self.mode == 'test':\n",
        "            info = { 'cur_revenue' : cur_revenue , 'trade_time' : self.trade_time, 'trade_win' : self.trade_win }\n",
        "        else:\n",
        "            info = { 'cur_revenue' : cur_revenue }\n",
        "\n",
        "        return self._get_now_state(), reward, done, info\n",
        "\n",
        "    def _get_now_state(self):\n",
        "        state = np.empty(3)\n",
        "        state[0] = self.hold_a_position\n",
        "        state[1] = self.now_price\n",
        "        state[2] = self.cash_in_hand\n",
        "        return state\n",
        "\n",
        "    def _get_revenue(self): \n",
        "        return self.hold_a_position * self.now_price + self.cash_in_hand\n",
        "\n",
        "    def _trade(self, action,lastorder = False):\n",
        "        if lastorder:\n",
        "            self.cash_in_hand += self.now_price * self.hold_a_position\n",
        "            self.hold_a_position = 0\n",
        "        else:\n",
        "            if self.action_space[0] == action: # sell\n",
        "                if self.hold_a_position != 0:\n",
        "                    self.cash_in_hand += self.now_price * self.hold_a_position\n",
        "                    self.hold_a_position = 0\n",
        "                    if self.mode == 'test':\n",
        "                        self.trade_time += 1\n",
        "                        if self.cash_in_hand > self.brfore_buy_cash:\n",
        "                            self.trade_win += 1 \n",
        "            if self.action_space[2] == action: # buy\n",
        "                if self.hold_a_position == 0:\n",
        "                    buy_flag = True\n",
        "                    if self.mode == 'test':\n",
        "                        self.brfore_buy_cash = copy.copy(self.cash_in_hand)\n",
        "                    while buy_flag:\n",
        "                        if self.cash_in_hand > self.now_price:\n",
        "                            self.hold_a_position += 1\n",
        "                            self.cash_in_hand -= self.now_price\n",
        "                        else:\n",
        "                            buy_flag = False"
      ],
      "execution_count": 3,
      "outputs": []
    },
    {
      "cell_type": "markdown",
      "metadata": {
        "id": "8aUKW3oFFwts"
      },
      "source": [
        "## 2-3. A3C/A2C"
      ]
    },
    {
      "cell_type": "code",
      "metadata": {
        "id": "POQtk2tYMVgI"
      },
      "source": [
        "class Brain:\n",
        "    def __init__(self,n_action = 3):\n",
        "\n",
        "        n_shape = 3\n",
        "        n_action = n_action\n",
        "        lr = 0.01  # 学習率\n",
        "\n",
        "        c = input_ = keras.layers.Input(shape=n_shape)\n",
        "        c = keras.layers.Dense(10, activation=\"relu\")(c)\n",
        "        c = keras.layers.Dense(10, activation=\"relu\")(c)\n",
        "        actor_layer = keras.layers.Dense(n_action, activation=\"linear\")(c)\n",
        "        critic_layer = keras.layers.Dense(1, activation=\"linear\")(c)\n",
        "\n",
        "        model = keras.Model(input_, [actor_layer, critic_layer])\n",
        "        model.compile(optimizer=Adam(lr=lr))\n",
        "        model.summary()\n",
        "        self.model = model\n",
        "\n",
        "    def predict(self, state):\n",
        "        return self.model.predict(state)\n",
        "\n",
        "    def load(self, name):\n",
        "        self.model.load_weights(name)\n",
        "\n",
        "    def save(self, name):\n",
        "        self.model.save_weights(name)"
      ],
      "execution_count": 4,
      "outputs": []
    },
    {
      "cell_type": "code",
      "metadata": {
        "id": "-B4mqXczMr-E"
      },
      "source": [
        "class Actor:\n",
        "    def __init__(self,model):\n",
        "        self.model = model\n",
        "\n",
        "    def policynetwork(self, state, n_action):\n",
        "        action_eval, _ = self.model(state.reshape((1,-1)))\n",
        "        probs = tf.nn.softmax(action_eval)\n",
        "        return np.random.choice(n_action, 1, p=probs[0].numpy())[0]"
      ],
      "execution_count": 5,
      "outputs": []
    },
    {
      "cell_type": "code",
      "metadata": {
        "id": "31lzN_0uM3fU"
      },
      "source": [
        "class Critic:\n",
        "    def __init__(self,brain,model):\n",
        "        self.brain = brain\n",
        "        self.model = model\n",
        "\n",
        "    def valuenetwork(self, experiences):\n",
        "\n",
        "        gamma = 0.9  # 割引率\n",
        "        # 現在からエピソード最後までの報酬を計算（後ろから計算）\n",
        "        if experiences[-1][\"done\"]:\n",
        "            # 最後が終わりの場合は全部使える\n",
        "            G = 0\n",
        "        else:\n",
        "            # 最後が終わりじゃない場合は予測値vで補完する\n",
        "            next_state = np.atleast_2d(experiences[-1][\"next_state\"])\n",
        "            _, n_v = self.model(next_state)\n",
        "            G = n_v[0][0].numpy()\n",
        "\n",
        "        # 割引報酬を後ろから計算\n",
        "        discounted_rewards = []\n",
        "        for exp in reversed(experiences):\n",
        "            if exp[\"done\"]:\n",
        "                G = 0\n",
        "            G = exp[\"reward\"] + gamma * G\n",
        "            discounted_rewards.append(G)\n",
        "        discounted_rewards.reverse()\n",
        "\n",
        "        # 計算用にnp化して (batch_size,1) の形にする\n",
        "        discounted_rewards = np.asarray(discounted_rewards).reshape((-1, 1))\n",
        "        # ベースライン処理\n",
        "        discounted_rewards -= np.mean(discounted_rewards)  # 報酬の平均を引く\n",
        "        # データ形式を変形\n",
        "        state_batch = np.asarray([e[\"state\"] for e in experiences])\n",
        "        action_batch = np.asarray([e[\"action\"] for e in experiences])\n",
        "        # アクションをonehotベクトルの形に変形\n",
        "        onehot_actions = tf.one_hot(action_batch, n_action)\n",
        "\n",
        "        # 勾配を計算する\n",
        "        # Pythonのwithを使用すると、何かの処理の開始時と終了時に必須の処理を絶対に実行してくれます。\n",
        "        with tf.GradientTape() as tape:\n",
        "\n",
        "            action_eval, v = self.model(state_batch, training=True)\n",
        "            #  π(a|s) を計算\n",
        "            action_probs = tf.nn.softmax(action_eval)\n",
        "            selected_action_probs = tf.reduce_sum(onehot_actions * action_probs, axis=1, keepdims=True)\n",
        "            #--- アドバンテージを計算\n",
        "            # アドバンテージ方策勾配で使うvは値として使うので、\n",
        "            # 勾配で計算されないように tf.stop_gradient を使う\n",
        "            advantage = discounted_rewards - tf.stop_gradient(v)\n",
        "            # log(π(a|s)) * A(s,a) を計算\n",
        "            selected_action_probs = tf.clip_by_value(selected_action_probs, 1e-10, 1.0)  # 0にならないようにclip\n",
        "            policy_loss = tf.math.log(selected_action_probs) * advantage\n",
        "            #--- Value loss\n",
        "            # 平均二乗誤差で損失を計算\n",
        "            value_loss = tf.reduce_mean((discounted_rewards - v) ** 2, axis=1, keepdims=True)\n",
        "            #--- 方策エントロピー\n",
        "            entropy = tf.reduce_sum(tf.math.log(selected_action_probs) * selected_action_probs, axis=1, keepdims=True)\n",
        "            #--- batch loss\n",
        "            value_loss_weight = 0.5\n",
        "            entropy_weight = 0.1\n",
        "            loss = -policy_loss + value_loss_weight * value_loss - entropy_weight * entropy\n",
        "            # 全バッチのlossの平均(ミニバッチ処理?)\n",
        "            loss = tf.reduce_mean(loss)\n",
        "\n",
        "        # 勾配を元にoptimizerでモデルを更新\n",
        "        gradients = tape.gradient(loss, self.model.trainable_variables)\n",
        "        self.model.optimizer.apply_gradients(zip(gradients, self.model.trainable_variables))"
      ],
      "execution_count": 6,
      "outputs": []
    },
    {
      "cell_type": "code",
      "metadata": {
        "id": "xsPGjyT83gyh"
      },
      "source": [
        "def play_game(env, actor,critic, scaler, episodes_times = 100, batch_size = 32, n_action = 3, mode = 'train'):\n",
        "    experiences = []\n",
        "    episode_rewards = []\n",
        "\n",
        "    for episode in range(episodes_times):\n",
        "        state = env.reset()\n",
        "        state = scaler.transform([state])\n",
        "        state = state.flatten()\n",
        "        done = False\n",
        "        total_reward = 0\n",
        "        step = 0\n",
        "\n",
        "        while not done:\n",
        "            \n",
        "            action = actor.policynetwork(state, n_action)\n",
        "            next_state, reward, done, _ = env.step(action)\n",
        "            next_state = scaler.transform([next_state])\n",
        "            next_state = next_state.flatten()\n",
        "\n",
        "            total_reward += reward\n",
        "\n",
        "            if mode == 'train':\n",
        "                experiences.append({\"state\": state, \"action\": action, \"reward\": reward, \"next_state\": next_state, \"done\": done,})\n",
        "                if len(experiences) == batch_size:\n",
        "                    critic.valuenetwork(experiences)\n",
        "                    experiences = []\n",
        "            \n",
        "            state = next_state\n",
        "            step += 1\n",
        "\n",
        "        episode_rewards.append(total_reward)\n",
        "        if episode % 10 == 0:\n",
        "            print(\"{}/{}, {} step, reward: {}\".format(episode, episodes_times, step, np.round(np.mean(episode_rewards[-10:]), decimals=2)))"
      ],
      "execution_count": 7,
      "outputs": []
    },
    {
      "cell_type": "markdown",
      "metadata": {
        "id": "mLiPy-pAOYOA"
      },
      "source": [
        "### 学習の実行"
      ]
    },
    {
      "cell_type": "code",
      "metadata": {
        "id": "lgv85YlVOaum",
        "colab": {
          "base_uri": "https://localhost:8080/"
        },
        "outputId": "cbfc50cf-d652-4d46-89c4-7fd7fcc7829e"
      },
      "source": [
        "initial_money=1000000\n",
        "mode = 'train'\n",
        "\n",
        "brain = Brain(n_action)\n",
        "model = brain.model\n",
        "\n",
        "actor = Actor(model)\n",
        "critic = Critic(brain,model)\n",
        "\n",
        "if mode == 'test':\n",
        "    brain.load(f'a2c_model.h5')\n",
        "\n",
        "env = Environment(df, initial_money = initial_money, mode=mode)\n",
        "scaler = make_scaler(env)\n",
        "\n",
        "play_game(env, actor, critic, scaler, mode = mode)\n",
        "\n",
        "if mode == 'train':\n",
        "    brain.save(f'a2c_model.h5')"
      ],
      "execution_count": 8,
      "outputs": [
        {
          "output_type": "stream",
          "text": [
            "/usr/local/lib/python3.7/dist-packages/tensorflow/python/keras/optimizer_v2/optimizer_v2.py:375: UserWarning: The `lr` argument is deprecated, use `learning_rate` instead.\n",
            "  \"The `lr` argument is deprecated, use `learning_rate` instead.\")\n"
          ],
          "name": "stderr"
        },
        {
          "output_type": "stream",
          "text": [
            "Model: \"model\"\n",
            "__________________________________________________________________________________________________\n",
            "Layer (type)                    Output Shape         Param #     Connected to                     \n",
            "==================================================================================================\n",
            "input_1 (InputLayer)            [(None, 3)]          0                                            \n",
            "__________________________________________________________________________________________________\n",
            "dense (Dense)                   (None, 10)           40          input_1[0][0]                    \n",
            "__________________________________________________________________________________________________\n",
            "dense_1 (Dense)                 (None, 10)           110         dense[0][0]                      \n",
            "__________________________________________________________________________________________________\n",
            "dense_2 (Dense)                 (None, 3)            33          dense_1[0][0]                    \n",
            "__________________________________________________________________________________________________\n",
            "dense_3 (Dense)                 (None, 1)            11          dense_1[0][0]                    \n",
            "==================================================================================================\n",
            "Total params: 194\n",
            "Trainable params: 194\n",
            "Non-trainable params: 0\n",
            "__________________________________________________________________________________________________\n",
            "id(a) = 140410538140688\n",
            "id(a) = 140410538140688\n",
            "id(a) = 140410538140688\n",
            "0/100, 881 step, reward: 445440.8\n",
            "10/100, 881 step, reward: 113765.65\n",
            "20/100, 881 step, reward: 117356.5\n",
            "30/100, 881 step, reward: 121211.66\n",
            "40/100, 881 step, reward: 337233.62\n",
            "50/100, 881 step, reward: 543970.84\n",
            "60/100, 881 step, reward: 543970.84\n",
            "70/100, 881 step, reward: 543970.84\n",
            "80/100, 881 step, reward: 543970.84\n",
            "90/100, 881 step, reward: 543970.84\n"
          ],
          "name": "stdout"
        }
      ]
    }
  ]
}