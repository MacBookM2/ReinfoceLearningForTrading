{
  "nbformat": 4,
  "nbformat_minor": 0,
  "metadata": {
    "colab": {
      "name": "make_data_analysys.ipynb",
      "provenance": [],
      "collapsed_sections": [],
      "authorship_tag": "ABX9TyNcsQyrzcWCKGUibIngJmRT",
      "include_colab_link": true
    },
    "kernelspec": {
      "name": "python3",
      "display_name": "Python 3"
    },
    "language_info": {
      "name": "python"
    }
  },
  "cells": [
    {
      "cell_type": "markdown",
      "metadata": {
        "id": "view-in-github",
        "colab_type": "text"
      },
      "source": [
        "<a href=\"https://colab.research.google.com/github/sugiyama404/ReinfoceLearningForTrading/blob/main/make_data_analysys.ipynb\" target=\"_parent\"><img src=\"https://colab.research.google.com/assets/colab-badge.svg\" alt=\"Open In Colab\"/></a>"
      ]
    },
    {
      "cell_type": "code",
      "metadata": {
        "colab": {
          "base_uri": "https://localhost:8080/"
        },
        "id": "VC3KR94BZ9aI",
        "outputId": "306f4707-c98b-4daf-ee59-580c5e12597e"
      },
      "source": [
        "import pandas as pd\n",
        "from datetime import datetime\n",
        "import numpy as np\n",
        "import matplotlib.pyplot as plt\n",
        "\n",
        "from google.colab import drive\n",
        "import copy\n",
        "\n",
        "import seaborn as sns\n",
        "\n",
        "drive.mount('/content/drive/')\n",
        "exp_dir = 'Colab Notebooks/workspace/export/'\n",
        "\n",
        "random_path = '/content/drive/My Drive/' + exp_dir + 'random_test.csv'\n",
        "qlearning_path = '/content/drive/My Drive/' + exp_dir + 'qlearning_test.csv'\n",
        "sarsa_path = '/content/drive/My Drive/' + exp_dir + 'sarsa_test.csv'"
      ],
      "execution_count": 1,
      "outputs": [
        {
          "output_type": "stream",
          "text": [
            "Drive already mounted at /content/drive/; to attempt to forcibly remount, call drive.mount(\"/content/drive/\", force_remount=True).\n"
          ],
          "name": "stdout"
        }
      ]
    },
    {
      "cell_type": "code",
      "metadata": {
        "colab": {
          "base_uri": "https://localhost:8080/",
          "height": 419
        },
        "id": "QtjeOY4h__5i",
        "outputId": "2baace0d-d213-46a6-d5d6-5240313a49b0"
      },
      "source": [
        "df_r = pd.read_csv(random_path)\n",
        "df_q = pd.read_csv(qlearning_path)\n",
        "df_s = pd.read_csv(sarsa_path)\n",
        "df_r_1 = df_r.drop(\"Unnamed: 0\", axis=1)\n",
        "df_q_1 = df_q.drop(\"Unnamed: 0\", axis=1)\n",
        "df_s_1 = df_s.drop(\"Unnamed: 0\", axis=1)\n",
        "df_r_1['WinRate'] = df_r_1['TradeWin'] / df_r_1['TradeTimes'] * 100\n",
        "df_q_1['WinRate'] = df_q_1['TradeWin'] / df_q_1['TradeTimes'] * 100\n",
        "df_s_1['WinRate'] = df_s_1['TradeWin'] / df_s_1['TradeTimes'] * 100\n",
        "\n",
        "df_r_1['WinRate'] = df_r_1['WinRate'].fillna(0)\n",
        "df_q_1['WinRate'] = df_q_1['WinRate'].fillna(0)\n",
        "df_s_1['WinRate'] = df_s_1['WinRate'].fillna(0)\n",
        "\n",
        "df_r_1['WinRate'] = df_r_1['WinRate'].round(2)\n",
        "df_q_1['WinRate'] = df_q_1['WinRate'].round(2)\n",
        "df_s_1['WinRate'] = df_s_1['WinRate'].round(2)\n",
        "\n",
        "\n",
        "\n",
        "df_r_1['FixedProfitRate'] = df_r_1['FixedProfit'] /1000000 * 100\n",
        "df_q_1['FixedProfitRate'] = df_q_1['FixedProfit'] /1000000 * 100\n",
        "df_s_1['FixedProfitRate'] = df_s_1['FixedProfit'] /1000000 * 100\n",
        "\n",
        "df_r_1['FixedProfitRate'] = df_r_1['FixedProfitRate'].fillna(0)\n",
        "df_q_1['FixedProfitRate'] = df_q_1['FixedProfitRate'].fillna(0)\n",
        "df_s_1['FixedProfitRate'] = df_s_1['FixedProfitRate'].fillna(0)\n",
        "\n",
        "df_r_1['FixedProfitRate'] = df_r_1['FixedProfitRate'].round(2)\n",
        "df_q_1['FixedProfitRate'] = df_q_1['FixedProfitRate'].round(2)\n",
        "df_s_1['FixedProfitRate'] = df_s_1['FixedProfitRate'].round(2)\n",
        "\n",
        "'''\n",
        "df_r_1['FixedProfit'] = df_r_1['FixedProfit'].round(2)\n",
        "df_q_1['FixedProfit'] = df_q_1['FixedProfit'].round(2)\n",
        "df_s_1['FixedProfit'] = df_s_1['FixedProfit'].round(2)\n",
        "'''\n",
        "del df_r_1['FixedProfit']\n",
        "del df_r_1['TradeTimes']\n",
        "del df_r_1['TradeWin']\n",
        "del df_q_1['FixedProfit']\n",
        "del df_q_1['TradeTimes']\n",
        "del df_q_1['TradeWin']\n",
        "del df_s_1['FixedProfit']\n",
        "del df_s_1['TradeTimes']\n",
        "del df_s_1['TradeWin']\n",
        "df_s_1"
      ],
      "execution_count": 2,
      "outputs": [
        {
          "output_type": "execute_result",
          "data": {
            "text/html": [
              "<div>\n",
              "<style scoped>\n",
              "    .dataframe tbody tr th:only-of-type {\n",
              "        vertical-align: middle;\n",
              "    }\n",
              "\n",
              "    .dataframe tbody tr th {\n",
              "        vertical-align: top;\n",
              "    }\n",
              "\n",
              "    .dataframe thead th {\n",
              "        text-align: right;\n",
              "    }\n",
              "</style>\n",
              "<table border=\"1\" class=\"dataframe\">\n",
              "  <thead>\n",
              "    <tr style=\"text-align: right;\">\n",
              "      <th></th>\n",
              "      <th>WinRate</th>\n",
              "      <th>FixedProfitRate</th>\n",
              "    </tr>\n",
              "  </thead>\n",
              "  <tbody>\n",
              "    <tr>\n",
              "      <th>0</th>\n",
              "      <td>0.00</td>\n",
              "      <td>130.01</td>\n",
              "    </tr>\n",
              "    <tr>\n",
              "      <th>1</th>\n",
              "      <td>100.00</td>\n",
              "      <td>104.03</td>\n",
              "    </tr>\n",
              "    <tr>\n",
              "      <th>2</th>\n",
              "      <td>0.00</td>\n",
              "      <td>97.89</td>\n",
              "    </tr>\n",
              "    <tr>\n",
              "      <th>3</th>\n",
              "      <td>100.00</td>\n",
              "      <td>107.79</td>\n",
              "    </tr>\n",
              "    <tr>\n",
              "      <th>4</th>\n",
              "      <td>100.00</td>\n",
              "      <td>104.08</td>\n",
              "    </tr>\n",
              "    <tr>\n",
              "      <th>...</th>\n",
              "      <td>...</td>\n",
              "      <td>...</td>\n",
              "    </tr>\n",
              "    <tr>\n",
              "      <th>95</th>\n",
              "      <td>100.00</td>\n",
              "      <td>144.86</td>\n",
              "    </tr>\n",
              "    <tr>\n",
              "      <th>96</th>\n",
              "      <td>66.67</td>\n",
              "      <td>118.61</td>\n",
              "    </tr>\n",
              "    <tr>\n",
              "      <th>97</th>\n",
              "      <td>100.00</td>\n",
              "      <td>137.43</td>\n",
              "    </tr>\n",
              "    <tr>\n",
              "      <th>98</th>\n",
              "      <td>0.00</td>\n",
              "      <td>116.45</td>\n",
              "    </tr>\n",
              "    <tr>\n",
              "      <th>99</th>\n",
              "      <td>0.00</td>\n",
              "      <td>124.72</td>\n",
              "    </tr>\n",
              "  </tbody>\n",
              "</table>\n",
              "<p>100 rows × 2 columns</p>\n",
              "</div>"
            ],
            "text/plain": [
              "    WinRate  FixedProfitRate\n",
              "0      0.00           130.01\n",
              "1    100.00           104.03\n",
              "2      0.00            97.89\n",
              "3    100.00           107.79\n",
              "4    100.00           104.08\n",
              "..      ...              ...\n",
              "95   100.00           144.86\n",
              "96    66.67           118.61\n",
              "97   100.00           137.43\n",
              "98     0.00           116.45\n",
              "99     0.00           124.72\n",
              "\n",
              "[100 rows x 2 columns]"
            ]
          },
          "metadata": {
            "tags": []
          },
          "execution_count": 2
        }
      ]
    },
    {
      "cell_type": "code",
      "metadata": {
        "colab": {
          "base_uri": "https://localhost:8080/",
          "height": 419
        },
        "id": "wQpbwseFdoVw",
        "outputId": "5871dade-cbd2-4970-bc6d-294c798140e1"
      },
      "source": [
        "df_a = pd.DataFrame(columns=['random', 'qlearning', 'sarsa'])\n",
        "df_a['random'] = df_r_1['FixedProfitRate']\n",
        "df_a['qlearning'] = df_q_1['FixedProfitRate']\n",
        "df_a['sarsa'] = df_s_1['FixedProfitRate']\n",
        "\n",
        "df_b = pd.DataFrame(columns=['random', 'qlearning', 'sarsa'])\n",
        "df_b['random'] = df_r_1['WinRate']\n",
        "df_b['qlearning'] = df_q_1['WinRate']\n",
        "df_b['sarsa'] = df_s_1['WinRate']\n",
        "\n",
        "dfTa_melt = pd.melt(df_a)\n",
        "dfTa_melt['species'] = 'FixedProfitRate'\n",
        "\n",
        "dfAt_melt = pd.melt(df_b)\n",
        "dfAt_melt['species'] = 'WinRate'\n",
        "\n",
        "df = pd.concat([dfAt_melt, dfTa_melt], axis=0)\n",
        "df"
      ],
      "execution_count": 3,
      "outputs": [
        {
          "output_type": "execute_result",
          "data": {
            "text/html": [
              "<div>\n",
              "<style scoped>\n",
              "    .dataframe tbody tr th:only-of-type {\n",
              "        vertical-align: middle;\n",
              "    }\n",
              "\n",
              "    .dataframe tbody tr th {\n",
              "        vertical-align: top;\n",
              "    }\n",
              "\n",
              "    .dataframe thead th {\n",
              "        text-align: right;\n",
              "    }\n",
              "</style>\n",
              "<table border=\"1\" class=\"dataframe\">\n",
              "  <thead>\n",
              "    <tr style=\"text-align: right;\">\n",
              "      <th></th>\n",
              "      <th>variable</th>\n",
              "      <th>value</th>\n",
              "      <th>species</th>\n",
              "    </tr>\n",
              "  </thead>\n",
              "  <tbody>\n",
              "    <tr>\n",
              "      <th>0</th>\n",
              "      <td>random</td>\n",
              "      <td>58.45</td>\n",
              "      <td>WinRate</td>\n",
              "    </tr>\n",
              "    <tr>\n",
              "      <th>1</th>\n",
              "      <td>random</td>\n",
              "      <td>59.21</td>\n",
              "      <td>WinRate</td>\n",
              "    </tr>\n",
              "    <tr>\n",
              "      <th>2</th>\n",
              "      <td>random</td>\n",
              "      <td>61.64</td>\n",
              "      <td>WinRate</td>\n",
              "    </tr>\n",
              "    <tr>\n",
              "      <th>3</th>\n",
              "      <td>random</td>\n",
              "      <td>65.07</td>\n",
              "      <td>WinRate</td>\n",
              "    </tr>\n",
              "    <tr>\n",
              "      <th>4</th>\n",
              "      <td>random</td>\n",
              "      <td>54.97</td>\n",
              "      <td>WinRate</td>\n",
              "    </tr>\n",
              "    <tr>\n",
              "      <th>...</th>\n",
              "      <td>...</td>\n",
              "      <td>...</td>\n",
              "      <td>...</td>\n",
              "    </tr>\n",
              "    <tr>\n",
              "      <th>295</th>\n",
              "      <td>sarsa</td>\n",
              "      <td>144.86</td>\n",
              "      <td>FixedProfitRate</td>\n",
              "    </tr>\n",
              "    <tr>\n",
              "      <th>296</th>\n",
              "      <td>sarsa</td>\n",
              "      <td>118.61</td>\n",
              "      <td>FixedProfitRate</td>\n",
              "    </tr>\n",
              "    <tr>\n",
              "      <th>297</th>\n",
              "      <td>sarsa</td>\n",
              "      <td>137.43</td>\n",
              "      <td>FixedProfitRate</td>\n",
              "    </tr>\n",
              "    <tr>\n",
              "      <th>298</th>\n",
              "      <td>sarsa</td>\n",
              "      <td>116.45</td>\n",
              "      <td>FixedProfitRate</td>\n",
              "    </tr>\n",
              "    <tr>\n",
              "      <th>299</th>\n",
              "      <td>sarsa</td>\n",
              "      <td>124.72</td>\n",
              "      <td>FixedProfitRate</td>\n",
              "    </tr>\n",
              "  </tbody>\n",
              "</table>\n",
              "<p>600 rows × 3 columns</p>\n",
              "</div>"
            ],
            "text/plain": [
              "    variable   value          species\n",
              "0     random   58.45          WinRate\n",
              "1     random   59.21          WinRate\n",
              "2     random   61.64          WinRate\n",
              "3     random   65.07          WinRate\n",
              "4     random   54.97          WinRate\n",
              "..       ...     ...              ...\n",
              "295    sarsa  144.86  FixedProfitRate\n",
              "296    sarsa  118.61  FixedProfitRate\n",
              "297    sarsa  137.43  FixedProfitRate\n",
              "298    sarsa  116.45  FixedProfitRate\n",
              "299    sarsa  124.72  FixedProfitRate\n",
              "\n",
              "[600 rows x 3 columns]"
            ]
          },
          "metadata": {
            "tags": []
          },
          "execution_count": 3
        }
      ]
    },
    {
      "cell_type": "code",
      "metadata": {
        "colab": {
          "base_uri": "https://localhost:8080/",
          "height": 464
        },
        "id": "VSv_Y5Pge-SJ",
        "outputId": "10df07eb-98cd-4f01-b238-915797e647e0"
      },
      "source": [
        "plt.style.use('default')\n",
        "sns.set()\n",
        "sns.set_style('whitegrid')\n",
        "sns.set_palette('Set3')\n",
        "\n",
        "\n",
        "fig = plt.figure()\n",
        "ax = fig.add_subplot(1, 1, 1)\n",
        "sns.boxplot(x='variable', y='value', data=df, hue='species', palette='coolwarm_r', ax=ax)\n",
        "\n",
        "\n",
        "ax.set_xlabel('Type')\n",
        "ax.set_ylabel('Rate [%]')\n",
        "ax.set_ylim(0, 200)\n",
        "ax.legend()\n",
        "\n",
        "plt.show()"
      ],
      "execution_count": 10,
      "outputs": [
        {
          "output_type": "display_data",
          "data": {
            "image/png": "[encoded data removed]",
            "text/plain": [
              "<Figure size 640x480 with 1 Axes>"
            ]
          },
          "metadata": {
            "tags": []
          }
        }
      ]
    }
  ]
}