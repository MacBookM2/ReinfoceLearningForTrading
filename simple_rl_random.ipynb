{
  "nbformat": 4,
  "nbformat_minor": 0,
  "metadata": {
    "colab": {
      "name": "simple_rl_random.ipynb",
      "provenance": [],
      "collapsed_sections": [],
      "authorship_tag": "ABX9TyPSNJH/WO/0lA6sjtU5+y/4",
      "include_colab_link": true
    },
    "kernelspec": {
      "name": "python3",
      "display_name": "Python 3"
    },
    "language_info": {
      "name": "python"
    }
  },
  "cells": [
    {
      "cell_type": "markdown",
      "metadata": {
        "id": "view-in-github",
        "colab_type": "text"
      },
      "source": [
        "<a href=\"https://colab.research.google.com/github/sugiyama404/ReinfoceLearningForTrading/blob/main/simple_rl_random.ipynb\" target=\"_parent\"><img src=\"https://colab.research.google.com/assets/colab-badge.svg\" alt=\"Open In Colab\"/></a>"
      ]
    },
    {
      "cell_type": "code",
      "metadata": {
        "colab": {
          "base_uri": "https://localhost:8080/"
        },
        "id": "3NIXg6mTzk0K",
        "outputId": "f51a33b4-c565-4866-dc64-beb921c44802"
      },
      "source": [
        "import pandas as pd\n",
        "import numpy as np\n",
        "import random\n",
        "from google.colab import drive\n",
        "\n",
        "from datetime import datetime\n",
        "from matplotlib import pyplot as plt\n",
        "\n",
        "drive.mount('/content/drive/')\n",
        "nov_dir = 'Colab Notebooks/dataset/reinforcement_learning/'\n",
        "nov_path = '/content/drive/My Drive/' + nov_dir + 'data_csv_sp500.csv'\n",
        "\n",
        "df = pd.read_csv(nov_path)\n",
        "df['Date'] = pd.to_datetime(df['Date'], format = '%Y-%m-%d')"
      ],
      "execution_count": 1,
      "outputs": [
        {
          "output_type": "stream",
          "text": [
            "Drive already mounted at /content/drive/; to attempt to forcibly remount, call drive.mount(\"/content/drive/\", force_remount=True).\n"
          ],
          "name": "stdout"
        }
      ]
    },
    {
      "cell_type": "code",
      "metadata": {
        "id": "MN1DKfV6zauY"
      },
      "source": [
        "class Environment:\n",
        "    def __init__(self, df, initial_money=1000):\n",
        "\n",
        "        self.df = df.dropna().reset_index()\n",
        "        self.df_total_steps = len(self.df)-1\n",
        "        self.initial_money = initial_money\n",
        "        self.action_space = np.array([0, 1, 2])\n",
        "        self.stock_owned = None\n",
        "        self.now_price = None\n",
        "        self.cash_in_hand = None\n",
        "\n",
        "        self.reset()\n",
        "        \n",
        "    def reset(self):\n",
        "\n",
        "        self.end_step = self.df_total_steps\n",
        "        self.now_step = 0\n",
        "        self.stock_owned = 0.0\n",
        "        self.now_price = self.df.loc[self.now_step, 'SP500']\n",
        "        self.cash_in_hand = self.initial_money\n",
        "\n",
        "        return self._get_now_state()\n",
        "\n",
        "    def step(self, action):\n",
        "\n",
        "        self.now_step += 1\n",
        "        self.now_price = self.df.loc[self.now_step, 'SP500']\n",
        " \n",
        "        # 含み益\n",
        "        prev_val = self._get_val()\n",
        "\n",
        "        done = (self.end_step == self.now_step)\n",
        "\n",
        "        self._trade(action,done)\n",
        "        cur_val = self._get_val()\n",
        "        reward = cur_val - prev_val\n",
        "        info = {'cur_val': cur_val}\n",
        "\n",
        "        return self._get_now_state(), reward, done, info\n",
        "\n",
        "    def _get_now_state(self):\n",
        "        state = np.empty(3)\n",
        "        state[0] = self.stock_owned\n",
        "        state[1] = self.now_price\n",
        "        state[2] = self.cash_in_hand\n",
        "        return state\n",
        "\n",
        "    def _get_val(self):\n",
        "        return self.stock_owned * self.now_price + self.cash_in_hand\n",
        "\n",
        "    def _trade(self, action,lastorder = False):\n",
        "        '''\n",
        "        0 = sell\n",
        "        1 = hold\n",
        "        2 = buy\n",
        "        売りたい株を売る\n",
        "        買いたい銘柄を買う\n",
        "        売買ルール：\n",
        "        1.空売りは認めない\n",
        "        2.ポジションを持っている場合、追加注文を出せない。\n",
        "        3.トレーニング期間は最後のステップでポジションを全て売却する。\n",
        "        '''\n",
        "        if lastorder:\n",
        "            self.cash_in_hand += self.now_price * self.stock_owned\n",
        "            self.stock_owned = 0\n",
        "        else:\n",
        "            if self.action_space[0] == action: # sell\n",
        "            # 注：問題を簡単にするために、売るときはその株のすべての株を売ることにします\n",
        "                self.cash_in_hand += self.now_price * self.stock_owned\n",
        "                self.stock_owned = 0\n",
        "            if self.action_space[2] == action: # buy\n",
        "            # 注：購入時には、買いたい銘柄をループさせて、現金がなくなるまで1株ずつ購入していきます。\n",
        "                buy_flag = True\n",
        "                while buy_flag:\n",
        "                    if self.cash_in_hand > self.now_price:\n",
        "                        self.stock_owned += 1\n",
        "                        self.cash_in_hand -= self.now_price\n",
        "                    else:\n",
        "                        buy_flag = False"
      ],
      "execution_count": 2,
      "outputs": []
    },
    {
      "cell_type": "code",
      "metadata": {
        "id": "On5S8YtLz3U4"
      },
      "source": [
        "def play_episode(env, train_episodes = 50):\n",
        "    list2 = []\n",
        "    for episode in range(train_episodes):\n",
        "        state = env.reset()\n",
        "        done = False\n",
        "        start_time = datetime.now()\n",
        "       \n",
        "        while not done:\n",
        "            #乱数で1,2,3を出力\n",
        "            # action = agent.act(state)\n",
        "            action = np.random.randint(3, size=1)[0]\n",
        "            state, reward, done, info = env.step(action)\n",
        "           \n",
        "        list2.append(info['cur_val'])\n",
        "        play_time = datetime.now() - start_time\n",
        "        # トレード回数、勝率を明記\n",
        "        print(f\"episode: {episode + 1}/{train_episodes}, value: {info['cur_val']:.2f}, duration: {play_time}\")\n",
        "    return list2"
      ],
      "execution_count": 3,
      "outputs": []
    },
    {
      "cell_type": "code",
      "metadata": {
        "colab": {
          "base_uri": "https://localhost:8080/",
          "height": 436
        },
        "id": "pYFNVDDQz9X9",
        "outputId": "6769169b-3c67-43be-ca24-d1a112cbd139"
      },
      "source": [
        "env = Environment(df, initial_money=1000)\n",
        "#play_episode(env, train_episodes = 10)\n",
        "list2 = play_episode(env, train_episodes = 10)\n",
        "\n",
        "x = list(range(10))\n",
        "y = list2\n",
        "plt.plot(x, y)\n",
        "plt.show()"
      ],
      "execution_count": 4,
      "outputs": [
        {
          "output_type": "stream",
          "text": [
            "episode: 1/10, value: 10311.25, duration: 0:00:00.091730\n",
            "episode: 2/10, value: 69029.74, duration: 0:00:00.143133\n",
            "episode: 3/10, value: 155138.51, duration: 0:00:00.125101\n",
            "episode: 4/10, value: 75097.94, duration: 0:00:00.133523\n",
            "episode: 5/10, value: 21242.34, duration: 0:00:00.139588\n",
            "episode: 6/10, value: 14459.74, duration: 0:00:00.133392\n",
            "episode: 7/10, value: 4549.40, duration: 0:00:00.127250\n",
            "episode: 8/10, value: 23950.89, duration: 0:00:00.143762\n",
            "episode: 9/10, value: 68228.07, duration: 0:00:00.077226\n",
            "episode: 10/10, value: 23869.79, duration: 0:00:00.089957\n"
          ],
          "name": "stdout"
        },
        {
          "output_type": "display_data",
          "data": {
            "image/png": "[encoded data removed]",
            "text/plain": [
              "<Figure size 432x288 with 1 Axes>"
            ]
          },
          "metadata": {
            "tags": [],
            "needs_background": "light"
          }
        }
      ]
    }
  ]
}