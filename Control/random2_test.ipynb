{
  "nbformat": 4,
  "nbformat_minor": 0,
  "metadata": {
    "colab": {
      "name": "random2_test.ipynb",
      "provenance": [],
      "collapsed_sections": [],
      "machine_shape": "hm",
      "authorship_tag": "ABX9TyOTnvcPA+0Ndv5JJB/CHh8e",
      "include_colab_link": true
    },
    "kernelspec": {
      "name": "python3",
      "display_name": "Python 3"
    },
    "language_info": {
      "name": "python"
    },
    "accelerator": "GPU"
  },
  "cells": [
    {
      "cell_type": "markdown",
      "metadata": {
        "id": "view-in-github",
        "colab_type": "text"
      },
      "source": [
        "<a href=\"https://colab.research.google.com/github/sugiyama404/ReinfoceLearningForTrading/blob/main/Control/random2_test.ipynb\" target=\"_parent\"><img src=\"https://colab.research.google.com/assets/colab-badge.svg\" alt=\"Open In Colab\"/></a>"
      ]
    },
    {
      "cell_type": "code",
      "metadata": {
        "colab": {
          "base_uri": "https://localhost:8080/"
        },
        "id": "3NIXg6mTzk0K",
        "outputId": "01176e8a-913c-4779-812c-df8f628e9e4e"
      },
      "source": [
        "import pandas as pd\n",
        "import numpy as np\n",
        "import random\n",
        "from google.colab import drive\n",
        "import copy\n",
        "\n",
        "from datetime import datetime\n",
        "from matplotlib import pyplot as plt\n",
        "from tensorflow.keras.utils import Progbar\n",
        "\n",
        "\n",
        "mode = 'test'\n",
        "name = 'random'\n",
        "level = 2\n",
        "if level == 2:\n",
        "    name += name + 'lv2'\n",
        "\n",
        "drive.mount('/content/drive/')\n",
        "nov_dir = 'Colab Notebooks/dataset/reinforcement_learning/'\n",
        "nov_path = '/content/drive/My Drive/' + nov_dir + f'sp500_{mode}.csv'\n",
        "\n",
        "exp_dir = 'Colab Notebooks/workspace/export/'\n",
        "mdl_dir = '/content/drive/My Drive/' + exp_dir + 'models'\n",
        "csv_path = '/content/drive/My Drive/' + exp_dir + f'csv_data/{name}_{mode}.csv'\n",
        "\n",
        "df = pd.read_csv(nov_path)\n",
        "df['Date'] = pd.to_datetime(df['Date'], format = '%Y-%m-%d')"
      ],
      "execution_count": null,
      "outputs": [
        {
          "output_type": "stream",
          "name": "stdout",
          "text": [
            "Mounted at /content/drive/\n"
          ]
        }
      ]
    },
    {
      "cell_type": "code",
      "metadata": {
        "id": "MN1DKfV6zauY"
      },
      "source": [
        "class Environment:\n",
        "    def __init__(self, df, initial_money=100000, mode = 'test', commission = 0):\n",
        "\n",
        "        self.df = df.dropna().reset_index()\n",
        "\n",
        "        self.df_total_steps  = len(self.df)-1\n",
        "        self.initial_money   = initial_money\n",
        "        self.mode            = mode\n",
        "        self.commission      = commission\n",
        "        self.trade_time      = None\n",
        "        self.trade_win       = None\n",
        "        self.brfore_buy_cash = None\n",
        "        self.action_space    = np.array([0, 1, 2]) # buy,hold,sell\n",
        "        self.hold_a_position = None\n",
        "        self.now_price       = None\n",
        "        self.cash_in_hand    = None\n",
        "        self.sell_price      = None\n",
        "        self.buy_price       = None\n",
        "\n",
        "        self.reset()\n",
        "        \n",
        "    def reset(self):\n",
        "\n",
        "        self.trade_time      = 0\n",
        "        self.trade_win       = 0\n",
        "        self.brfore_buy_cash = 0\n",
        "        self.end_step        = self.df_total_steps\n",
        "        self.now_step        = 0\n",
        "        self.hold_a_position = 0.0\n",
        "        self.now_price       = self.df.loc[self.now_step, 'SP500']\n",
        "        self.cash_in_hand    = self.initial_money\n",
        "        self.sell_price      = 0\n",
        "        self.buy_price       = 0\n",
        "\n",
        "        return self._get_now_state()\n",
        "\n",
        "    def step(self, action):\n",
        "\n",
        "        self.now_step += 1\n",
        "        self.now_price = self.df.loc[self.now_step, 'SP500']\n",
        " \n",
        "        done = (self.end_step == self.now_step)\n",
        "\n",
        "        self.sell_price = 0\n",
        "        self._trade(action,done)\n",
        "        reward = 0\n",
        "        if (self.sell_price > 0) and (self.buy_price > 0) and ((self.sell_price - self.buy_price) != 0):\n",
        "            reward = (self.sell_price - self.buy_price) / self.buy_price\n",
        "            self.buy_price = 0\n",
        "        cur_revenue = self._get_revenue()\n",
        " \n",
        "        info = { 'cur_revenue' : cur_revenue , 'trade_time' : self.trade_time, 'trade_win' : self.trade_win }\n",
        "\n",
        "        return self._get_now_state(), reward, done, info\n",
        "\n",
        "    def _get_now_state(self):\n",
        "        state = np.empty(3)\n",
        "        state[0] = self.hold_a_position\n",
        "        state[1] = self.now_price\n",
        "        state[2] = self.cash_in_hand\n",
        "        return state\n",
        "\n",
        "    def _get_revenue(self): \n",
        "        return self.hold_a_position * self.now_price + self.cash_in_hand\n",
        "\n",
        "    def _trade(self, action,lastorder = False):\n",
        "        if lastorder:\n",
        "            if self.hold_a_position != 0:\n",
        "                self.cash_in_hand += self.now_price * self.hold_a_position\n",
        "                self.hold_a_position = 0\n",
        "                self.trade_time += 1\n",
        "                if self.cash_in_hand > self.brfore_buy_cash:\n",
        "                    self.trade_win += 1\n",
        "        else:\n",
        "            if self.action_space[0] == action: # buy\n",
        "                if self.hold_a_position == 0:\n",
        "                    buy_flag = True\n",
        "                    self.brfore_buy_cash = copy.copy(self.cash_in_hand)\n",
        "                    while buy_flag:\n",
        "                        if self.cash_in_hand > self.now_price:\n",
        "                            self.hold_a_position += 1\n",
        "                            self.buy_price += self.now_price\n",
        "                            self.cash_in_hand -= self.now_price + self.commission * self.now_price\n",
        "                        else:\n",
        "                            buy_flag = False\n",
        "            if self.action_space[2] == action: # sell\n",
        "                if self.hold_a_position != 0:\n",
        "                    self.sell_price += self.now_price * self.hold_a_position\n",
        "                    self.cash_in_hand += self.now_price * self.hold_a_position - self.commission * self.now_price * self.hold_a_position\n",
        "                    self.hold_a_position = 0\n",
        "                    self.trade_time += 1\n",
        "                    if self.cash_in_hand > self.brfore_buy_cash:\n",
        "                        self.trade_win += 1"
      ],
      "execution_count": null,
      "outputs": []
    },
    {
      "cell_type": "code",
      "metadata": {
        "id": "On5S8YtLz3U4"
      },
      "source": [
        "class Main:\n",
        "    def __init__(self, env, mdl_dir, name, episodes_times = 1000, mode = 'test'):\n",
        "        self.env = env\n",
        "        self.mdl_dir = mdl_dir\n",
        "        self.episodes_times = episodes_times\n",
        "        self.mode = mode\n",
        "        self.name = name\n",
        "\n",
        "        with open(csv_path, 'w') as f:\n",
        "            row = 'FixedProfit,TradeTimes,TradeWin'\n",
        "            print(row, file=f)\n",
        "\n",
        "\n",
        "    def play_game(self):\n",
        "\n",
        "        for episode in range(self.episodes_times):\n",
        "\n",
        "            if (episode % 10 == 0):\n",
        "                metrics_names = ['FixedProfit','TradeTimes','TradeWin']\n",
        "                if (int(str(self.episodes_times)[:-1])*10 == episode):\n",
        "                    pb_i = Progbar(int(str(self.episodes_times)[-1]), stateful_metrics=metrics_names)\n",
        "                else:\n",
        "                    pb_i = Progbar(10, stateful_metrics=metrics_names)\n",
        "                p_mean,trade_time,win_time = np.array([]),np.array([]),np.array([])\n",
        "\n",
        "            state = self.env.reset()\n",
        "            done = False\n",
        "        \n",
        "            while not done:\n",
        "                action = random.randrange(3)\n",
        "                next_state, reward, done, info = self.env.step(action)\n",
        "                state = next_state\n",
        "\n",
        "            p_mean,trade_time,win_time = np.append(p_mean,info['cur_revenue']),np.append(trade_time,info['trade_time']),np.append(win_time,info['trade_win'])\n",
        "            values=[('FixedProfit',int(np.mean(p_mean))), ('TradeTimes',int(np.mean(trade_time))), ('TradeWin',int(np.mean(win_time)))]\n",
        "            pb_i.add(1, values=values)\n",
        "            with open(csv_path, 'a') as f:\n",
        "                row = str(info['cur_revenue']) + ',' + str(info['trade_time']) + ',' + str(info['trade_win'])\n",
        "                print(row, file=f)"
      ],
      "execution_count": null,
      "outputs": []
    },
    {
      "cell_type": "code",
      "metadata": {
        "colab": {
          "base_uri": "https://localhost:8080/"
        },
        "id": "pYFNVDDQz9X9",
        "outputId": "83ff2a86-1380-4f94-ab01-e63629b464f9"
      },
      "source": [
        "initial_money=1000000\n",
        "episodes_times = 100\n",
        "commission = 0 if level == 1 else 0.002\n",
        "\n",
        "env = Environment(df, initial_money = initial_money, mode = mode, commission = commission)\n",
        "main = Main(env, mdl_dir, name, episodes_times, mode)\n",
        "main.play_game()"
      ],
      "execution_count": null,
      "outputs": [
        {
          "output_type": "stream",
          "name": "stdout",
          "text": [
            "10/10 [==============================] - 0s 41ms/step - FixedProfit: 671232.0000 - TradeTimes: 146.0000 - TradeWin: 64.0000\n",
            "10/10 [==============================] - 0s 44ms/step - FixedProfit: 621698.0000 - TradeTimes: 144.0000 - TradeWin: 63.0000\n",
            "10/10 [==============================] - 0s 43ms/step - FixedProfit: 720766.0000 - TradeTimes: 147.0000 - TradeWin: 65.0000\n",
            "10/10 [==============================] - 0s 44ms/step - FixedProfit: 734634.0000 - TradeTimes: 149.0000 - TradeWin: 67.0000\n",
            "10/10 [==============================] - 0s 46ms/step - FixedProfit: 709434.0000 - TradeTimes: 146.0000 - TradeWin: 63.0000\n",
            "10/10 [==============================] - 0s 43ms/step - FixedProfit: 716473.0000 - TradeTimes: 149.0000 - TradeWin: 67.0000\n",
            "10/10 [==============================] - 0s 43ms/step - FixedProfit: 745040.0000 - TradeTimes: 147.0000 - TradeWin: 67.0000\n",
            "10/10 [==============================] - 0s 44ms/step - FixedProfit: 723518.0000 - TradeTimes: 146.0000 - TradeWin: 64.0000\n",
            "10/10 [==============================] - 0s 42ms/step - FixedProfit: 652959.0000 - TradeTimes: 146.0000 - TradeWin: 64.0000\n",
            "10/10 [==============================] - 0s 43ms/step - FixedProfit: 702500.0000 - TradeTimes: 149.0000 - TradeWin: 68.0000\n"
          ]
        }
      ]
    }
  ]
}