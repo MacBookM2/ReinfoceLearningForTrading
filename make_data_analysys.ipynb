{
  "nbformat": 4,
  "nbformat_minor": 0,
  "metadata": {
    "colab": {
      "name": "make_data_analysys.ipynb",
      "provenance": [],
      "collapsed_sections": [],
      "authorship_tag": "ABX9TyNm89n9tPgAACJB3m031o6Z",
      "include_colab_link": true
    },
    "kernelspec": {
      "name": "python3",
      "display_name": "Python 3"
    },
    "language_info": {
      "name": "python"
    }
  },
  "cells": [
    {
      "cell_type": "markdown",
      "metadata": {
        "id": "view-in-github",
        "colab_type": "text"
      },
      "source": [
        "<a href=\"https://colab.research.google.com/github/sugiyama404/ReinfoceLearningForTrading/blob/main/make_data_analysys.ipynb\" target=\"_parent\"><img src=\"https://colab.research.google.com/assets/colab-badge.svg\" alt=\"Open In Colab\"/></a>"
      ]
    },
    {
      "cell_type": "code",
      "metadata": {
        "colab": {
          "base_uri": "https://localhost:8080/"
        },
        "id": "VC3KR94BZ9aI",
        "outputId": "7fbac0b8-3dbb-4315-d728-a6675d391ce6"
      },
      "source": [
        "import pandas as pd\n",
        "from datetime import datetime\n",
        "import numpy as np\n",
        "import matplotlib.pyplot as plt\n",
        "\n",
        "from google.colab import drive\n",
        "import copy\n",
        "\n",
        "import seaborn as sns\n",
        "\n",
        "drive.mount('/content/drive/')\n",
        "exp_dir = 'Colab Notebooks/workspace/export/'\n",
        "\n",
        "random_path = '/content/drive/My Drive/' + exp_dir + 'random_test.csv'\n",
        "qlearning_path = '/content/drive/My Drive/' + exp_dir + 'qlearning_test.csv'\n",
        "sarsa_path = '/content/drive/My Drive/' + exp_dir + 'sarsa_test.csv'\n",
        "a2c_path = '/content/drive/My Drive/' + exp_dir + 'a2c_test.csv'"
      ],
      "execution_count": 1,
      "outputs": [
        {
          "output_type": "stream",
          "text": [
            "Drive already mounted at /content/drive/; to attempt to forcibly remount, call drive.mount(\"/content/drive/\", force_remount=True).\n"
          ],
          "name": "stdout"
        }
      ]
    },
    {
      "cell_type": "code",
      "metadata": {
        "colab": {
          "base_uri": "https://localhost:8080/",
          "height": 419
        },
        "id": "QtjeOY4h__5i",
        "outputId": "e0a26c5f-fc5c-40c6-af6e-e7ddd7cbb6b7"
      },
      "source": [
        "df_r = pd.read_csv(random_path)\n",
        "df_q = pd.read_csv(qlearning_path)\n",
        "df_s = pd.read_csv(sarsa_path)\n",
        "df_a2c = pd.read_csv(a2c_path)\n",
        "df_r_1 = df_r.drop(\"Unnamed: 0\", axis=1)\n",
        "df_q_1 = df_q.drop(\"Unnamed: 0\", axis=1)\n",
        "df_s_1 = df_s.drop(\"Unnamed: 0\", axis=1)\n",
        "df_a2c_1 = df_a2c.drop(\"Unnamed: 0\", axis=1)\n",
        "df_r_1['WinRate'] = df_r_1['TradeWin'] / df_r_1['TradeTimes'] * 100\n",
        "df_q_1['WinRate'] = df_q_1['TradeWin'] / df_q_1['TradeTimes'] * 100\n",
        "df_s_1['WinRate'] = df_s_1['TradeWin'] / df_s_1['TradeTimes'] * 100\n",
        "df_a2c_1['WinRate'] = df_a2c_1['TradeWin'] / df_a2c_1['TradeTimes'] * 100\n",
        "\n",
        "df_r_1['WinRate'] = df_r_1['WinRate'].fillna(0)\n",
        "df_q_1['WinRate'] = df_q_1['WinRate'].fillna(0)\n",
        "df_s_1['WinRate'] = df_s_1['WinRate'].fillna(0)\n",
        "df_a2c_1['WinRate'] = df_a2c_1['WinRate'].fillna(0)\n",
        "\n",
        "df_r_1['WinRate'] = df_r_1['WinRate'].round(2)\n",
        "df_q_1['WinRate'] = df_q_1['WinRate'].round(2)\n",
        "df_s_1['WinRate'] = df_s_1['WinRate'].round(2)\n",
        "df_a2c_1['WinRate'] = df_a2c_1['WinRate'].round(2)\n",
        "\n",
        "\n",
        "df_r_1['FixedProfitRate'] = df_r_1['FixedProfit'] /1000000 * 100\n",
        "df_q_1['FixedProfitRate'] = df_q_1['FixedProfit'] /1000000 * 100\n",
        "df_s_1['FixedProfitRate'] = df_s_1['FixedProfit'] /1000000 * 100\n",
        "df_a2c_1['FixedProfitRate'] = df_a2c_1['FixedProfit'] /1000000 * 100\n",
        "\n",
        "df_r_1['FixedProfitRate'] = df_r_1['FixedProfitRate'].fillna(0)\n",
        "df_q_1['FixedProfitRate'] = df_q_1['FixedProfitRate'].fillna(0)\n",
        "df_s_1['FixedProfitRate'] = df_s_1['FixedProfitRate'].fillna(0)\n",
        "df_a2c_1['FixedProfitRate'] = df_a2c_1['FixedProfitRate'].fillna(0)\n",
        "\n",
        "df_r_1['FixedProfitRate'] = df_r_1['FixedProfitRate'].round(2)\n",
        "df_q_1['FixedProfitRate'] = df_q_1['FixedProfitRate'].round(2)\n",
        "df_s_1['FixedProfitRate'] = df_s_1['FixedProfitRate'].round(2)\n",
        "df_a2c_1['FixedProfitRate'] = df_a2c_1['FixedProfitRate'].round(2)\n",
        "\n",
        "'''\n",
        "df_r_1['FixedProfit'] = df_r_1['FixedProfit'].round(2)\n",
        "df_q_1['FixedProfit'] = df_q_1['FixedProfit'].round(2)\n",
        "df_s_1['FixedProfit'] = df_s_1['FixedProfit'].round(2)\n",
        "'''\n",
        "del df_r_1['FixedProfit']\n",
        "del df_r_1['TradeTimes']\n",
        "del df_r_1['TradeWin']\n",
        "del df_q_1['FixedProfit']\n",
        "del df_q_1['TradeTimes']\n",
        "del df_q_1['TradeWin']\n",
        "del df_s_1['FixedProfit']\n",
        "del df_s_1['TradeTimes']\n",
        "del df_s_1['TradeWin']\n",
        "del df_a2c_1['FixedProfit']\n",
        "del df_a2c_1['TradeTimes']\n",
        "del df_a2c_1['TradeWin']\n",
        "df_a2c_1"
      ],
      "execution_count": 2,
      "outputs": [
        {
          "output_type": "execute_result",
          "data": {
            "text/html": [
              "<div>\n",
              "<style scoped>\n",
              "    .dataframe tbody tr th:only-of-type {\n",
              "        vertical-align: middle;\n",
              "    }\n",
              "\n",
              "    .dataframe tbody tr th {\n",
              "        vertical-align: top;\n",
              "    }\n",
              "\n",
              "    .dataframe thead th {\n",
              "        text-align: right;\n",
              "    }\n",
              "</style>\n",
              "<table border=\"1\" class=\"dataframe\">\n",
              "  <thead>\n",
              "    <tr style=\"text-align: right;\">\n",
              "      <th></th>\n",
              "      <th>WinRate</th>\n",
              "      <th>FixedProfitRate</th>\n",
              "    </tr>\n",
              "  </thead>\n",
              "  <tbody>\n",
              "    <tr>\n",
              "      <th>0</th>\n",
              "      <td>100.0</td>\n",
              "      <td>154.4</td>\n",
              "    </tr>\n",
              "    <tr>\n",
              "      <th>1</th>\n",
              "      <td>100.0</td>\n",
              "      <td>154.4</td>\n",
              "    </tr>\n",
              "    <tr>\n",
              "      <th>2</th>\n",
              "      <td>100.0</td>\n",
              "      <td>154.4</td>\n",
              "    </tr>\n",
              "    <tr>\n",
              "      <th>3</th>\n",
              "      <td>100.0</td>\n",
              "      <td>154.4</td>\n",
              "    </tr>\n",
              "    <tr>\n",
              "      <th>4</th>\n",
              "      <td>100.0</td>\n",
              "      <td>154.4</td>\n",
              "    </tr>\n",
              "    <tr>\n",
              "      <th>...</th>\n",
              "      <td>...</td>\n",
              "      <td>...</td>\n",
              "    </tr>\n",
              "    <tr>\n",
              "      <th>95</th>\n",
              "      <td>100.0</td>\n",
              "      <td>154.4</td>\n",
              "    </tr>\n",
              "    <tr>\n",
              "      <th>96</th>\n",
              "      <td>100.0</td>\n",
              "      <td>154.4</td>\n",
              "    </tr>\n",
              "    <tr>\n",
              "      <th>97</th>\n",
              "      <td>100.0</td>\n",
              "      <td>154.4</td>\n",
              "    </tr>\n",
              "    <tr>\n",
              "      <th>98</th>\n",
              "      <td>100.0</td>\n",
              "      <td>154.4</td>\n",
              "    </tr>\n",
              "    <tr>\n",
              "      <th>99</th>\n",
              "      <td>100.0</td>\n",
              "      <td>154.4</td>\n",
              "    </tr>\n",
              "  </tbody>\n",
              "</table>\n",
              "<p>100 rows × 2 columns</p>\n",
              "</div>"
            ],
            "text/plain": [
              "    WinRate  FixedProfitRate\n",
              "0     100.0            154.4\n",
              "1     100.0            154.4\n",
              "2     100.0            154.4\n",
              "3     100.0            154.4\n",
              "4     100.0            154.4\n",
              "..      ...              ...\n",
              "95    100.0            154.4\n",
              "96    100.0            154.4\n",
              "97    100.0            154.4\n",
              "98    100.0            154.4\n",
              "99    100.0            154.4\n",
              "\n",
              "[100 rows x 2 columns]"
            ]
          },
          "metadata": {
            "tags": []
          },
          "execution_count": 2
        }
      ]
    },
    {
      "cell_type": "code",
      "metadata": {
        "colab": {
          "base_uri": "https://localhost:8080/",
          "height": 419
        },
        "id": "wQpbwseFdoVw",
        "outputId": "a8de9e4e-9961-4148-cdc0-7666d3c003f9"
      },
      "source": [
        "df_a = pd.DataFrame(columns=['random', 'qlearning', 'sarsa','a2c'])\n",
        "df_a['random'] = df_r_1['FixedProfitRate']\n",
        "df_a['qlearning'] = df_q_1['FixedProfitRate']\n",
        "df_a['sarsa'] = df_s_1['FixedProfitRate']\n",
        "df_a['a2c'] = df_a2c_1['FixedProfitRate']\n",
        "\n",
        "df_b = pd.DataFrame(columns=['random', 'qlearning', 'sarsa','a2c'])\n",
        "df_b['random'] = df_r_1['WinRate']\n",
        "df_b['qlearning'] = df_q_1['WinRate']\n",
        "df_b['sarsa'] = df_s_1['WinRate']\n",
        "df_b['a2c'] = df_a2c_1['WinRate']\n",
        "\n",
        "dfTa_melt = pd.melt(df_a)\n",
        "dfTa_melt['species'] = 'FixedProfitRate'\n",
        "\n",
        "dfAt_melt = pd.melt(df_b)\n",
        "dfAt_melt['species'] = 'WinRate'\n",
        "\n",
        "df = pd.concat([dfAt_melt, dfTa_melt], axis=0)\n",
        "df"
      ],
      "execution_count": 3,
      "outputs": [
        {
          "output_type": "execute_result",
          "data": {
            "text/html": [
              "<div>\n",
              "<style scoped>\n",
              "    .dataframe tbody tr th:only-of-type {\n",
              "        vertical-align: middle;\n",
              "    }\n",
              "\n",
              "    .dataframe tbody tr th {\n",
              "        vertical-align: top;\n",
              "    }\n",
              "\n",
              "    .dataframe thead th {\n",
              "        text-align: right;\n",
              "    }\n",
              "</style>\n",
              "<table border=\"1\" class=\"dataframe\">\n",
              "  <thead>\n",
              "    <tr style=\"text-align: right;\">\n",
              "      <th></th>\n",
              "      <th>variable</th>\n",
              "      <th>value</th>\n",
              "      <th>species</th>\n",
              "    </tr>\n",
              "  </thead>\n",
              "  <tbody>\n",
              "    <tr>\n",
              "      <th>0</th>\n",
              "      <td>random</td>\n",
              "      <td>63.33</td>\n",
              "      <td>WinRate</td>\n",
              "    </tr>\n",
              "    <tr>\n",
              "      <th>1</th>\n",
              "      <td>random</td>\n",
              "      <td>63.87</td>\n",
              "      <td>WinRate</td>\n",
              "    </tr>\n",
              "    <tr>\n",
              "      <th>2</th>\n",
              "      <td>random</td>\n",
              "      <td>60.96</td>\n",
              "      <td>WinRate</td>\n",
              "    </tr>\n",
              "    <tr>\n",
              "      <th>3</th>\n",
              "      <td>random</td>\n",
              "      <td>59.88</td>\n",
              "      <td>WinRate</td>\n",
              "    </tr>\n",
              "    <tr>\n",
              "      <th>4</th>\n",
              "      <td>random</td>\n",
              "      <td>63.33</td>\n",
              "      <td>WinRate</td>\n",
              "    </tr>\n",
              "    <tr>\n",
              "      <th>...</th>\n",
              "      <td>...</td>\n",
              "      <td>...</td>\n",
              "      <td>...</td>\n",
              "    </tr>\n",
              "    <tr>\n",
              "      <th>395</th>\n",
              "      <td>a2c</td>\n",
              "      <td>154.40</td>\n",
              "      <td>FixedProfitRate</td>\n",
              "    </tr>\n",
              "    <tr>\n",
              "      <th>396</th>\n",
              "      <td>a2c</td>\n",
              "      <td>154.40</td>\n",
              "      <td>FixedProfitRate</td>\n",
              "    </tr>\n",
              "    <tr>\n",
              "      <th>397</th>\n",
              "      <td>a2c</td>\n",
              "      <td>154.40</td>\n",
              "      <td>FixedProfitRate</td>\n",
              "    </tr>\n",
              "    <tr>\n",
              "      <th>398</th>\n",
              "      <td>a2c</td>\n",
              "      <td>154.40</td>\n",
              "      <td>FixedProfitRate</td>\n",
              "    </tr>\n",
              "    <tr>\n",
              "      <th>399</th>\n",
              "      <td>a2c</td>\n",
              "      <td>154.40</td>\n",
              "      <td>FixedProfitRate</td>\n",
              "    </tr>\n",
              "  </tbody>\n",
              "</table>\n",
              "<p>800 rows × 3 columns</p>\n",
              "</div>"
            ],
            "text/plain": [
              "    variable   value          species\n",
              "0     random   63.33          WinRate\n",
              "1     random   63.87          WinRate\n",
              "2     random   60.96          WinRate\n",
              "3     random   59.88          WinRate\n",
              "4     random   63.33          WinRate\n",
              "..       ...     ...              ...\n",
              "395      a2c  154.40  FixedProfitRate\n",
              "396      a2c  154.40  FixedProfitRate\n",
              "397      a2c  154.40  FixedProfitRate\n",
              "398      a2c  154.40  FixedProfitRate\n",
              "399      a2c  154.40  FixedProfitRate\n",
              "\n",
              "[800 rows x 3 columns]"
            ]
          },
          "metadata": {
            "tags": []
          },
          "execution_count": 3
        }
      ]
    },
    {
      "cell_type": "code",
      "metadata": {
        "colab": {
          "base_uri": "https://localhost:8080/",
          "height": 458
        },
        "id": "VSv_Y5Pge-SJ",
        "outputId": "53039f19-cecd-45b5-bad7-cec9b26a5214"
      },
      "source": [
        "plt.style.use('default')\n",
        "sns.set()\n",
        "sns.set_style('whitegrid')\n",
        "sns.set_palette('Set3')\n",
        "\n",
        "\n",
        "fig = plt.figure()\n",
        "ax = fig.add_subplot(1, 1, 1)\n",
        "sns.boxplot(x='variable', y='value', data=df, hue='species', palette='coolwarm_r', ax=ax)\n",
        "\n",
        "\n",
        "ax.set_xlabel('Type')\n",
        "ax.set_ylabel('Rate [%]')\n",
        "ax.set_ylim(0, 220)\n",
        "ax.legend()\n",
        "\n",
        "plt.show()"
      ],
      "execution_count": 4,
      "outputs": [
        {
          "output_type": "display_data",
          "data": {
            "image/png": "[encoded data removed]",
            "text/plain": [
              "<Figure size 640x480 with 1 Axes>"
            ]
          },
          "metadata": {
            "tags": []
          }
        }
      ]
    }
  ]
}