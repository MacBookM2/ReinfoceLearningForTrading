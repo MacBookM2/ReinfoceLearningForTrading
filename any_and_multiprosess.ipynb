{
  "nbformat": 4,
  "nbformat_minor": 0,
  "metadata": {
    "colab": {
      "name": "any_and_multiprosess.ipynb",
      "provenance": [],
      "collapsed_sections": [],
      "machine_shape": "hm",
      "authorship_tag": "ABX9TyMwgjr6u6I/oeW+10unZGQ2",
      "include_colab_link": true
    },
    "kernelspec": {
      "name": "python3",
      "display_name": "Python 3"
    },
    "language_info": {
      "name": "python"
    },
    "accelerator": "GPU"
  },
  "cells": [
    {
      "cell_type": "markdown",
      "metadata": {
        "id": "view-in-github",
        "colab_type": "text"
      },
      "source": [
        "<a href=\"https://colab.research.google.com/github/sugiyama404/ReinfoceLearningForTrading/blob/main/any_and_multiprosess.ipynb\" target=\"_parent\"><img src=\"https://colab.research.google.com/assets/colab-badge.svg\" alt=\"Open In Colab\"/></a>"
      ]
    },
    {
      "cell_type": "code",
      "metadata": {
        "id": "9dRZba1yIIYi"
      },
      "source": [
        "from concurrent.futures import ThreadPoolExecutor as PoolExecutor\n",
        "from multiprocessing import Process\n",
        "from time import sleep\n",
        "import random\n",
        "import threading\n",
        "import time\n",
        "from multiprocessing import Pool\n",
        "import random\n",
        "\n",
        "arr = []"
      ],
      "execution_count": null,
      "outputs": []
    },
    {
      "cell_type": "markdown",
      "metadata": {
        "id": "UxhqRs6-rrrq"
      },
      "source": [
        "# 通常のループ"
      ]
    },
    {
      "cell_type": "code",
      "metadata": {
        "colab": {
          "base_uri": "https://localhost:8080/"
        },
        "id": "kvjuoFRdrrKX",
        "outputId": "179b9db4-a17a-4f89-fde6-6519abecd3c8"
      },
      "source": [
        "class Worker:\n",
        "    def __init__(self, thread_name):\n",
        "        self.thread_name = thread_name\n",
        "        self.num = 0\n",
        "        self.sum = 0.0\n",
        "\n",
        "    def run(self):\n",
        "        while True:\n",
        "            sleep(1)\n",
        "            if self.num == 3:\n",
        "                break\n",
        "            print('roop_name  = ' + self.thread_name + '  :num ＝ '+ str(self.num) + '  :sum ＝ '+ str(self.sum))\n",
        "            self.num += 1\n",
        "            self.sum += random.random()\n",
        "\n",
        "\n",
        "name = 'nomal-roop'\n",
        "start = time.time()\n",
        "\n",
        "for i in range(4):\n",
        "    w = Worker('roop_point_'+str(i))\n",
        "    w.run()\n",
        "\n",
        "end = time.time() - start\n",
        "arr.append(\"name:\" + name + \" process_time:{0}\".format(end) + \"[s]\")"
      ],
      "execution_count": null,
      "outputs": [
        {
          "output_type": "stream",
          "text": [
            "roop_name  = roop_point_0  :num ＝ 0  :sum ＝ 0.0\n",
            "roop_name  = roop_point_0  :num ＝ 1  :sum ＝ 0.594320140223653\n",
            "roop_name  = roop_point_0  :num ＝ 2  :sum ＝ 1.5255403006960262\n",
            "roop_name  = roop_point_1  :num ＝ 0  :sum ＝ 0.0\n",
            "roop_name  = roop_point_1  :num ＝ 1  :sum ＝ 0.08425756515572203\n",
            "roop_name  = roop_point_1  :num ＝ 2  :sum ＝ 0.5500131263907845\n",
            "roop_name  = roop_point_2  :num ＝ 0  :sum ＝ 0.0\n",
            "roop_name  = roop_point_2  :num ＝ 1  :sum ＝ 0.002383749782286837\n",
            "roop_name  = roop_point_2  :num ＝ 2  :sum ＝ 0.4215854673463101\n",
            "roop_name  = roop_point_3  :num ＝ 0  :sum ＝ 0.0\n",
            "roop_name  = roop_point_3  :num ＝ 1  :sum ＝ 0.528494935349302\n",
            "roop_name  = roop_point_3  :num ＝ 2  :sum ＝ 1.0687894347454545\n"
          ],
          "name": "stdout"
        }
      ]
    },
    {
      "cell_type": "markdown",
      "metadata": {
        "id": "XwWKuOZA1AA8"
      },
      "source": [
        "# マルチスレッド"
      ]
    },
    {
      "cell_type": "code",
      "metadata": {
        "colab": {
          "base_uri": "https://localhost:8080/"
        },
        "id": "_VJ68OdWxaVN",
        "outputId": "8a3b8dfe-e76f-4d60-f6c8-33bdf9483912"
      },
      "source": [
        "class Worker(threading.Thread):\n",
        "    def __init__(self, thread_name):\n",
        "        self.thread_name = thread_name\n",
        "        self.num = 0\n",
        "        self.sum = 0.0\n",
        "        threading.Thread.__init__(self)\n",
        "\n",
        "    def run(self):\n",
        "        while True:\n",
        "            sleep(1)\n",
        "            if self.num == 3:\n",
        "                break\n",
        "            print('roop_name  = ' + self.thread_name + '  :num ＝ '+ str(self.num) + '  :sum ＝ '+ str(self.sum))\n",
        "\n",
        "            self.num += 1\n",
        "            self.sum += random.random()\n",
        "\n",
        "name = 'multi-thread'\n",
        "start = time.time()\n",
        "\n",
        "thread_list = []\n",
        "for i in range(4):\n",
        "    thread = Worker('thread_point_'+str(i))\n",
        "    thread.start()\n",
        "    thread_list.append(thread)\n",
        "\n",
        "for thread in thread_list:\n",
        "    thread.join()\n",
        "\n",
        "end = time.time() - start\n",
        "arr.append(\"name:\" + name + \" process_time:{0}\".format(end) + \"[s]\")"
      ],
      "execution_count": null,
      "outputs": [
        {
          "output_type": "stream",
          "text": [
            "roop_name  = thread_point_0  :num ＝ 0  :sum ＝ 0.0\n",
            "roop_name  = thread_point_1  :num ＝ 0  :sum ＝ 0.0\n",
            "roop_name  = thread_point_2  :num ＝ 0  :sum ＝ 0.0\n",
            "roop_name  = thread_point_3  :num ＝ 0  :sum ＝ 0.0\n",
            "roop_name  = thread_point_0  :num ＝ 1  :sum ＝ 0.6662338605767051\n",
            "roop_name  = thread_point_1  :num ＝ 1  :sum ＝ 0.4368437629688867\n",
            "roop_name  = thread_point_3  :num ＝ 1  :sum ＝ 0.48851712886022425\n",
            "roop_name  = thread_point_2  :num ＝ 1  :sum ＝ 0.20385424162020682\n",
            "roop_name  = thread_point_0  :num ＝ 2  :sum ＝ 1.0736042128846788\n",
            "roop_name  = thread_point_1  :num ＝ 2  :sum ＝ 0.6505334226386509\n",
            "roop_name  = thread_point_3  :num ＝ 2  :sum ＝ 1.4052745729964125\n",
            "roop_name  = thread_point_2  :num ＝ 2  :sum ＝ 1.0840126156128176\n"
          ],
          "name": "stdout"
        }
      ]
    },
    {
      "cell_type": "markdown",
      "metadata": {
        "id": "BvTEPnziES51"
      },
      "source": [
        "# マルチプロセス"
      ]
    },
    {
      "cell_type": "code",
      "metadata": {
        "colab": {
          "base_uri": "https://localhost:8080/"
        },
        "id": "fl86FIC0DPI5",
        "outputId": "a914433e-223e-4847-f4a0-5cc2802b5cf6"
      },
      "source": [
        "class Worker:\n",
        "    def __init__(self, process_name):\n",
        "        self.process_name = process_name\n",
        "        self.num = 0\n",
        "        self.sum = 0.0\n",
        "\n",
        "    def run(self):\n",
        "        while True:\n",
        "            sleep(1)\n",
        "            if self.num == 3:\n",
        "                break\n",
        "            print('roop_name  = ' + self.process_name + '  :num ＝ ' + str(self.num) + '  :sum ＝ ' + str(self.sum))\n",
        "            self.num += 1\n",
        "            self.sum += random.random()\n",
        "\n",
        "name = 'multi-process'\n",
        "start = time.time()\n",
        "\n",
        "p_inst = [Worker('work1'),Worker('work2'),Worker('work3'),Worker('work4')]\n",
        "worker = []\n",
        "for i in p_inst:\n",
        "    p = Process(target=i.run,)\n",
        "    worker.append(p)\n",
        "    p.start()\n",
        "\n",
        "for w in worker:\n",
        "    w.join()\n",
        "\n",
        "end = time.time() - start\n",
        "arr.append(\"name:\" + name + \" process_time:{0}\".format(end) + \"[s]\")"
      ],
      "execution_count": null,
      "outputs": [
        {
          "output_type": "stream",
          "text": [
            "roop_name  = work1  :num ＝ 0  :sum ＝ 0.0\n",
            "roop_name  = work2  :num ＝ 0  :sum ＝ 0.0\n",
            "roop_name  = work3  :num ＝ 0  :sum ＝ 0.0\n",
            "roop_name  = work4  :num ＝ 0  :sum ＝ 0.0\n",
            "roop_name  = work1  :num ＝ 1  :sum ＝ 0.2704575755384202\n",
            "roop_name  = work2  :num ＝ 1  :sum ＝ 0.21069486803683157\n",
            "roop_name  = work3  :num ＝ 1  :sum ＝ 0.23557181199410238\n",
            "roop_name  = work4  :num ＝ 1  :sum ＝ 0.10374775431320205\n",
            "roop_name  = work1  :num ＝ 2  :sum ＝ 0.5743951632810937\n",
            "roop_name  = work2  :num ＝ 2  :sum ＝ 1.1727841711320675\n",
            "roop_name  = work3  :num ＝ 2  :sum ＝ 0.7454979426850851\n",
            "roop_name  = work4  :num ＝ 2  :sum ＝ 0.1967503920016076\n"
          ],
          "name": "stdout"
        }
      ]
    },
    {
      "cell_type": "markdown",
      "metadata": {
        "id": "00ZfGgMUIeBV"
      },
      "source": [
        "# ThreadPool"
      ]
    },
    {
      "cell_type": "code",
      "metadata": {
        "colab": {
          "base_uri": "https://localhost:8080/"
        },
        "id": "h1jNz_VcIahD",
        "outputId": "fb2a8d1c-eb25-4bfb-ed00-882195ebe66e"
      },
      "source": [
        "class Worker:\n",
        "    def __init__(self, thread_name):\n",
        "        self.thread_name = thread_name\n",
        "        self.num = 0\n",
        "        self.sum = 0.0\n",
        "\n",
        "    def run(self):\n",
        "        while True:\n",
        "            sleep(1)\n",
        "            if self.num == 3:\n",
        "                break\n",
        "            print('roop_name  = ' + self.thread_name + '  :num ＝ ' + str(self.num) + '  :sum ＝ ' + str(self.sum))\n",
        "            self.num += 1\n",
        "            self.sum += random.random()\n",
        "\n",
        "name = 'thread-pool'\n",
        "start = time.time()\n",
        "\n",
        "thread_num = 4\n",
        "threads = []\n",
        "for i in range(thread_num):\n",
        "    thread_name = 'local_{}'.format(i)\n",
        "    threads.append(Worker(thread_name=thread_name))\n",
        "\n",
        "datas = []\n",
        "with PoolExecutor(max_workers=thread_num) as executor:\n",
        "    for worker in threads:\n",
        "        job = lambda: worker.run()\n",
        "        datas.append(executor.submit(job))\n",
        "\n",
        "end = time.time() - start\n",
        "arr.append(\"name:\" + name + \" process_time:{0}\".format(end) + \"[s]\")"
      ],
      "execution_count": null,
      "outputs": [
        {
          "output_type": "stream",
          "text": [
            "roop_name  = local_0  :num ＝ 0  :sum ＝ 0.0\n",
            "roop_name  = local_3  :num ＝ 0  :sum ＝ 0.0\n",
            "roop_name  = local_2  :num ＝ 0  :sum ＝ 0.0\n",
            "roop_name  = local_1  :num ＝ 0  :sum ＝ 0.0\n",
            "roop_name  = local_0  :num ＝ 1  :sum ＝ 0.31702359349829934\n",
            "roop_name  = local_2  :num ＝ 1  :sum ＝ 0.7557191469622209\n",
            "roop_name  = local_3  :num ＝ 1  :sum ＝ 0.878949224039721\n",
            "roop_name  = local_1  :num ＝ 1  :sum ＝ 0.09445671764119856\n",
            "roop_name  = local_0  :num ＝ 2  :sum ＝ 0.7465455768598104\n",
            "roop_name  = local_2  :num ＝ 2  :sum ＝ 1.3503714398547912\n",
            "roop_name  = local_3  :num ＝ 2  :sum ＝ 1.7068528181573503roop_name  = local_1  :num ＝ 2  :sum ＝ 0.24565456281964404\n",
            "\n"
          ],
          "name": "stdout"
        }
      ]
    },
    {
      "cell_type": "code",
      "metadata": {
        "colab": {
          "base_uri": "https://localhost:8080/"
        },
        "id": "MK8SXnvzL2BD",
        "outputId": "6a4ed59f-e40f-4011-d8b9-a037587cdf57"
      },
      "source": [
        "for a in arr:\n",
        "    print(a)"
      ],
      "execution_count": null,
      "outputs": [
        {
          "output_type": "stream",
          "text": [
            "name:nomal-roop process_time:16.021376371383667[s]\n",
            "name:multi-thread process_time:4.014446496963501[s]\n",
            "name:multi-process process_time:4.034740686416626[s]\n",
            "name:thread-pool process_time:4.008574485778809[s]\n"
          ],
          "name": "stdout"
        }
      ]
    }
  ]
}