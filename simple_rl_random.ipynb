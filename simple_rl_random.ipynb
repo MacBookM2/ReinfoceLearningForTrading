{
  "nbformat": 4,
  "nbformat_minor": 0,
  "metadata": {
    "colab": {
      "name": "simple_rl_random.ipynb",
      "provenance": [],
      "collapsed_sections": [],
      "authorship_tag": "ABX9TyOE6tB2xXUDsvhDV2UTUs/y",
      "include_colab_link": true
    },
    "kernelspec": {
      "name": "python3",
      "display_name": "Python 3"
    },
    "language_info": {
      "name": "python"
    }
  },
  "cells": [
    {
      "cell_type": "markdown",
      "metadata": {
        "id": "view-in-github",
        "colab_type": "text"
      },
      "source": [
        "<a href=\"https://colab.research.google.com/github/sugiyama404/ReinfoceLearningForTrading/blob/main/simple_rl_random.ipynb\" target=\"_parent\"><img src=\"https://colab.research.google.com/assets/colab-badge.svg\" alt=\"Open In Colab\"/></a>"
      ]
    },
    {
      "cell_type": "code",
      "metadata": {
        "colab": {
          "base_uri": "https://localhost:8080/"
        },
        "id": "3NIXg6mTzk0K",
        "outputId": "000d7c3c-7eb3-4c43-c8e2-f6655f505ad6"
      },
      "source": [
        "import pandas as pd\n",
        "import numpy as np\n",
        "import random\n",
        "from google.colab import drive\n",
        "\n",
        "from datetime import datetime\n",
        "from matplotlib import pyplot as plt\n",
        "\n",
        "drive.mount('/content/drive/')\n",
        "nov_dir = 'Colab Notebooks/dataset/reinforcement_learning/'\n",
        "nov_path = '/content/drive/My Drive/' + nov_dir + 'data_csv_sp500.csv'\n",
        "\n",
        "df = pd.read_csv(nov_path)\n",
        "df['Date'] = pd.to_datetime(df['Date'], format = '%Y-%m-%d')"
      ],
      "execution_count": 1,
      "outputs": [
        {
          "output_type": "stream",
          "text": [
            "Drive already mounted at /content/drive/; to attempt to forcibly remount, call drive.mount(\"/content/drive/\", force_remount=True).\n"
          ],
          "name": "stdout"
        }
      ]
    },
    {
      "cell_type": "code",
      "metadata": {
        "id": "MN1DKfV6zauY"
      },
      "source": [
        "class Environment:\n",
        "    def __init__(self, df, initial_money=1000):\n",
        "\n",
        "        self.df = df.dropna().reset_index()\n",
        "        self.df_total_steps = len(self.df)-1\n",
        "        self.initial_money = initial_money\n",
        "        self.action_space = np.array([0, 1, 2])\n",
        "        self.hold_a_position = None\n",
        "        self.now_price = None\n",
        "        self.cash_in_hand = None\n",
        "\n",
        "        self.reset()\n",
        "        \n",
        "    def reset(self):\n",
        "\n",
        "        self.end_step = self.df_total_steps\n",
        "        self.now_step = 0\n",
        "        self.hold_a_position = 0.0\n",
        "        self.now_price = self.df.loc[self.now_step, 'SP500']\n",
        "        self.cash_in_hand = self.initial_money\n",
        "\n",
        "        return self._get_now_state()\n",
        "\n",
        "    def step(self, action):\n",
        "\n",
        "        self.now_step += 1\n",
        "        self.now_price = self.df.loc[self.now_step, 'SP500']\n",
        " \n",
        "        # 含み益\n",
        "        prev_revenue = self._get_revenue()\n",
        "\n",
        "        done = (self.end_step == self.now_step)\n",
        "\n",
        "        self._trade(action,done)\n",
        "        cur_revenue = self._get_revenue()\n",
        "        reward = cur_revenue - prev_revenue\n",
        "        info = {'cur_revenue': cur_revenue}\n",
        "\n",
        "        return self._get_now_state(), reward, done, info\n",
        "\n",
        "    def _get_now_state(self):\n",
        "        state = np.empty(3)\n",
        "        state[0] = self.hold_a_position\n",
        "        state[1] = self.now_price\n",
        "        state[2] = self.cash_in_hand\n",
        "        return state\n",
        "\n",
        "    def _get_revenue(self):\n",
        "        return self.hold_a_position * self.now_price + self.cash_in_hand\n",
        "\n",
        "    def _trade(self, action,lastorder = False):\n",
        "        '''\n",
        "        0 = sell\n",
        "        1 = hold\n",
        "        2 = buy\n",
        "        売買ルール：\n",
        "        1.空売りは認めない\n",
        "        2.ポジションを持っている場合、追加注文を出せない。\n",
        "        3.トレーニング期間は最後のステップでポジションを全て売却する。\n",
        "        4.ポジションは全売り\n",
        "        '''\n",
        "        if lastorder:\n",
        "            self.cash_in_hand += self.now_price * self.hold_a_position\n",
        "            self.hold_a_position = 0\n",
        "        else:\n",
        "            if self.action_space[0] == action: # sell\n",
        "                self.cash_in_hand += self.now_price * self.hold_a_position\n",
        "                self.hold_a_position = 0\n",
        "            if self.action_space[2] == action: # buy\n",
        "                buy_flag = True\n",
        "                while buy_flag:\n",
        "                    if self.cash_in_hand > self.now_price:\n",
        "                        self.hold_a_position += 1\n",
        "                        self.cash_in_hand -= self.now_price\n",
        "                    else:\n",
        "                        buy_flag = False"
      ],
      "execution_count": 2,
      "outputs": []
    },
    {
      "cell_type": "code",
      "metadata": {
        "id": "On5S8YtLz3U4"
      },
      "source": [
        "def play_episode(env, episodes_times = 50):\n",
        "    list2 = []\n",
        "    for episode in range(episodes_times):\n",
        "        state = env.reset()\n",
        "        done = False\n",
        "        start_time = datetime.now()\n",
        "       \n",
        "        while not done:\n",
        "            #乱数で1,2,3を出力\n",
        "            # action = agent.act(state)\n",
        "            action = np.random.randint(3, size=1)[0]\n",
        "            state, reward, done, info = env.step(action)\n",
        "           \n",
        "        list2.append(info['cur_revenue'])\n",
        "        play_time = datetime.now() - start_time\n",
        "        # トレード回数、勝率を明記\n",
        "        print(f\"Episode: {episode + 1}/{episodes_times} FixedProfit: {info['cur_revenue']:.0f} RapTime: {play_time}\")\n",
        "    return list2"
      ],
      "execution_count": 3,
      "outputs": []
    },
    {
      "cell_type": "code",
      "metadata": {
        "colab": {
          "base_uri": "https://localhost:8080/",
          "height": 435
        },
        "id": "pYFNVDDQz9X9",
        "outputId": "21fb8729-4261-44f9-a22b-8463af0b1660"
      },
      "source": [
        "env = Environment(df, initial_money=1000)\n",
        "#play_episode(env, episodes_times = 10)\n",
        "list2 = play_episode(env, episodes_times = 10)\n",
        "\n",
        "x = list(range(10))\n",
        "y = list2\n",
        "plt.plot(x, y)\n",
        "plt.show()"
      ],
      "execution_count": 4,
      "outputs": [
        {
          "output_type": "stream",
          "text": [
            "Episode: 1/10 FixedProfit: 10426 RapTime: 0:00:00.086948\n",
            "Episode: 2/10 FixedProfit: 13469 RapTime: 0:00:00.068753\n",
            "Episode: 3/10 FixedProfit: 107474 RapTime: 0:00:00.103904\n",
            "Episode: 4/10 FixedProfit: 61180 RapTime: 0:00:00.142657\n",
            "Episode: 5/10 FixedProfit: 24013 RapTime: 0:00:00.162112\n",
            "Episode: 6/10 FixedProfit: 23321 RapTime: 0:00:00.167811\n",
            "Episode: 7/10 FixedProfit: 68942 RapTime: 0:00:00.148200\n",
            "Episode: 8/10 FixedProfit: 28048 RapTime: 0:00:00.132016\n",
            "Episode: 9/10 FixedProfit: 20471 RapTime: 0:00:00.146943\n",
            "Episode: 10/10 FixedProfit: 78184 RapTime: 0:00:00.076607\n"
          ],
          "name": "stdout"
        },
        {
          "output_type": "display_data",
          "data": {
            "image/png": "[encoded data removed]",
            "text/plain": [
              "<Figure size 432x288 with 1 Axes>"
            ]
          },
          "metadata": {
            "tags": [],
            "needs_background": "light"
          }
        }
      ]
    }
  ]
}