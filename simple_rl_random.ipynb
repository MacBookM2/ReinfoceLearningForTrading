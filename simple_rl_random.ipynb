{
  "nbformat": 4,
  "nbformat_minor": 0,
  "metadata": {
    "colab": {
      "name": "simple_rl_random.ipynb",
      "provenance": [],
      "collapsed_sections": [],
      "authorship_tag": "ABX9TyO6jQuP4i0oQyR43MVj5a1E",
      "include_colab_link": true
    },
    "kernelspec": {
      "name": "python3",
      "display_name": "Python 3"
    },
    "language_info": {
      "name": "python"
    }
  },
  "cells": [
    {
      "cell_type": "markdown",
      "metadata": {
        "id": "view-in-github",
        "colab_type": "text"
      },
      "source": [
        "<a href=\"https://colab.research.google.com/github/sugiyama404/ReinfoceLearningForTrading/blob/main/simple_rl_random.ipynb\" target=\"_parent\"><img src=\"https://colab.research.google.com/assets/colab-badge.svg\" alt=\"Open In Colab\"/></a>"
      ]
    },
    {
      "cell_type": "code",
      "metadata": {
        "colab": {
          "base_uri": "https://localhost:8080/"
        },
        "id": "3NIXg6mTzk0K",
        "outputId": "b915c3cc-86c6-42ff-9033-235f31798fb6"
      },
      "source": [
        "import pandas as pd\n",
        "import numpy as np\n",
        "import random\n",
        "from google.colab import drive\n",
        "\n",
        "from datetime import datetime\n",
        "from matplotlib import pyplot as plt\n",
        "\n",
        "drive.mount('/content/drive/')\n",
        "nov_dir = 'Colab Notebooks/dataset/reinforcement_learning/'\n",
        "nov_path = '/content/drive/My Drive/' + nov_dir + 'data_csv_sp500.csv'\n",
        "\n",
        "df = pd.read_csv(nov_path)\n",
        "df['Date'] = pd.to_datetime(df['Date'], format = '%Y-%m-%d')"
      ],
      "execution_count": 1,
      "outputs": [
        {
          "output_type": "stream",
          "text": [
            "Drive already mounted at /content/drive/; to attempt to forcibly remount, call drive.mount(\"/content/drive/\", force_remount=True).\n"
          ],
          "name": "stdout"
        }
      ]
    },
    {
      "cell_type": "code",
      "metadata": {
        "id": "MN1DKfV6zauY"
      },
      "source": [
        "class Environment:\n",
        "    def __init__(self, df, initial_money=1000):\n",
        "\n",
        "        self.df = df.dropna().reset_index()\n",
        "        self.df_total_steps = len(self.df)-1\n",
        "        self.initial_money = initial_money\n",
        "        self.action_space = np.array([0, 1, 2])\n",
        "        self.stock_owned = None\n",
        "        self.current_price = None\n",
        "        self.cash_in_hand = None\n",
        "\n",
        "        self.reset()\n",
        "        \n",
        "    def reset(self):\n",
        "\n",
        "        self.end_step = self.df_total_steps\n",
        "        self.current_step = 0\n",
        "        self.stock_owned = 0.0\n",
        "        self.current_price = self.df.loc[self.current_step, 'SP500']\n",
        "        self.cash_in_hand = self.initial_money\n",
        "\n",
        "        return self._get_now_state()\n",
        "\n",
        "    def step(self, action):\n",
        "\n",
        "        self.current_step += 1\n",
        "        self.current_price = self.df.loc[self.current_step, 'SP500']\n",
        " \n",
        "        # 含み益\n",
        "        prev_val = self._get_val()\n",
        "\n",
        "        done = (self.end_step == self.current_step)\n",
        "\n",
        "        self._trade(action,done)\n",
        "        cur_val = self._get_val()\n",
        "        reward = cur_val - prev_val\n",
        "        info = {'cur_val': cur_val}\n",
        "\n",
        "        return self._get_now_state(), reward, done, info\n",
        "\n",
        "\n",
        "    def _get_now_state(self):\n",
        "        state = np.empty(3)\n",
        "        state[0] = self.stock_owned\n",
        "        state[1] = self.current_price\n",
        "        state[2] = self.cash_in_hand\n",
        "        return state\n",
        "\n",
        "    def _get_val(self):\n",
        "        return self.stock_owned * self.current_price + self.cash_in_hand\n",
        "\n",
        "    def _trade(self, action,lastorder = False):\n",
        "        '''\n",
        "        0 = sell\n",
        "        1 = hold\n",
        "        2 = buy\n",
        "        売りたい株を売る\n",
        "        買いたい銘柄を買う\n",
        "        売買ルール：\n",
        "        1.空売りは認めない\n",
        "        2.ポジションを持っている場合、追加注文を出せない。\n",
        "        3.トレーニング期間は最後のステップでポジションを全て売却する。\n",
        "        '''\n",
        "        if lastorder:\n",
        "            self.cash_in_hand += self.current_price * self.stock_owned\n",
        "            self.stock_owned = 0\n",
        "        else:\n",
        "            if self.action_space[0] == action: # sell\n",
        "            # 注：問題を簡単にするために、売るときはその株のすべての株を売ることにします\n",
        "                self.cash_in_hand += self.current_price * self.stock_owned\n",
        "                self.stock_owned = 0\n",
        "            if self.action_space[2] == action: # buy\n",
        "            # 注：購入時には、買いたい銘柄をループさせて、現金がなくなるまで1株ずつ購入していきます。\n",
        "                can_buy = True\n",
        "                while can_buy:\n",
        "                    if self.cash_in_hand > self.current_price:\n",
        "                        self.stock_owned += 1 # buy one share\n",
        "                        self.cash_in_hand -= self.current_price\n",
        "                    else:\n",
        "                        can_buy = False"
      ],
      "execution_count": 2,
      "outputs": []
    },
    {
      "cell_type": "code",
      "metadata": {
        "id": "On5S8YtLz3U4"
      },
      "source": [
        "def play_episode(env, train_episodes = 50):\n",
        "    list2 = []\n",
        "    for episode in range(train_episodes):\n",
        "        state = env.reset()\n",
        "        done = False\n",
        "        t0 = datetime.now()\n",
        "       \n",
        "        while not done:\n",
        "            #乱数で1,2,3を出力\n",
        "            # action = agent.act(state)\n",
        "            action = np.random.randint(3, size=1)[0]\n",
        "            state, reward, done,info = env.step(action)\n",
        "\n",
        "            '''\n",
        "            next_state : [2420. 15.27 8.40000001] : [持っている株数 今の株価 手持ちのキャッシュ]\n",
        "            reward : 335.60999999999876\n",
        "            done : False\n",
        "            info: {'cur_val': 15667.53000000051}\n",
        "            '''\n",
        "            \n",
        "        list2.append(info['cur_val'])\n",
        "        dt = datetime.now() - t0\n",
        "        print(f\"episode: {episode + 1}/{train_episodes}, episode end value: {info['cur_val']:.2f}, duration: {dt}\")\n",
        "    return list2"
      ],
      "execution_count": 3,
      "outputs": []
    },
    {
      "cell_type": "code",
      "metadata": {
        "colab": {
          "base_uri": "https://localhost:8080/",
          "height": 435
        },
        "id": "pYFNVDDQz9X9",
        "outputId": "76c3aeec-c94e-481e-db8e-775fb0f275b8"
      },
      "source": [
        "env = Environment(df, initial_money=1000)\n",
        "#play_episode(env, train_episodes = 10)\n",
        "list2 = play_episode(env, train_episodes = 10)\n",
        "\n",
        "\n",
        "x = list(range(10))\n",
        "y = list2\n",
        "plt.plot(x, y)\n",
        "plt.show()"
      ],
      "execution_count": 4,
      "outputs": [
        {
          "output_type": "stream",
          "text": [
            "episode: 1/10, episode end value: 35403.70, duration: 0:00:00.080408\n",
            "episode: 2/10, episode end value: 11911.66, duration: 0:00:00.100161\n",
            "episode: 3/10, episode end value: 64383.33, duration: 0:00:00.090302\n",
            "episode: 4/10, episode end value: 11717.14, duration: 0:00:00.126094\n",
            "episode: 5/10, episode end value: 93663.16, duration: 0:00:00.116826\n",
            "episode: 6/10, episode end value: 18963.90, duration: 0:00:00.154635\n",
            "episode: 7/10, episode end value: 44312.18, duration: 0:00:00.143970\n",
            "episode: 8/10, episode end value: 3450.10, duration: 0:00:00.090286\n",
            "episode: 9/10, episode end value: 58466.24, duration: 0:00:00.121112\n",
            "episode: 10/10, episode end value: 46961.08, duration: 0:00:00.137037\n"
          ],
          "name": "stdout"
        },
        {
          "output_type": "display_data",
          "data": {
            "image/png": "[encoded data removed]",
            "text/plain": [
              "<Figure size 432x288 with 1 Axes>"
            ]
          },
          "metadata": {
            "tags": [],
            "needs_background": "light"
          }
        }
      ]
    }
  ]
}